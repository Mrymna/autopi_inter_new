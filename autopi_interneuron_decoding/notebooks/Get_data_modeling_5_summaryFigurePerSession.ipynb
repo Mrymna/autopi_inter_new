{
 "cells": [
  {
   "cell_type": "markdown",
   "id": "4998ea9b-ec3e-4857-9bb0-451d955e325f",
   "metadata": {},
   "source": [
    "In this juper lab: \n",
    "\n",
    "1. load the sessions\n",
    "2. run the model on all sessions and make a summary figure \n",
    "3. merge the summary figure for all the sessions\n",
    "    "
   ]
  },
  {
   "cell_type": "code",
   "execution_count": null,
   "id": "45f597c3-ba6a-4a8b-89c8-40ac3ccbac9d",
   "metadata": {},
   "outputs": [],
   "source": []
  },
  {
   "cell_type": "code",
   "execution_count": 449,
   "id": "9592779d-e38b-449a-b7ac-e498bd22c99c",
   "metadata": {},
   "outputs": [
    {
     "name": "stdout",
     "output_type": "stream",
     "text": [
      "The autoreload extension is already loaded. To reload it, use:\n",
      "  %reload_ext autoreload\n"
     ]
    }
   ],
   "source": [
    "%load_ext autoreload\n",
    "%autoreload 2\n",
    "\n",
    "import os\n",
    "import pickle\n",
    "import numpy as np\n",
    "import matplotlib.pyplot as plt\n",
    "import spikeA\n",
    "from spikeA.Spike_train import Spike_train\n",
    "from spikeA.Animal_pose import Animal_pose\n",
    "from spikeA.Spatial_properties import Spatial_properties\n",
    "from spikeA.Neuron import Simulated_place_cell, Simulated_grid_cell\n",
    "from scipy.stats import poisson\n",
    "from scipy.interpolate import interp1d\n",
    "from tqdm import tqdm\n",
    "from scipy import stats\n",
    "from scipy import ndimage\n",
    "from astropy.stats import circcorrcoef\n",
    "from astropy import units as u\n",
    "from functions import *\n",
    "from lstmModel import *"
   ]
  },
  {
   "cell_type": "code",
   "execution_count": 450,
   "id": "7b8184c0-d30b-40d7-9e6d-d16a10e57812",
   "metadata": {},
   "outputs": [
    {
     "name": "stdout",
     "output_type": "stream",
     "text": [
      "creating myProject, an autopipy.project object\n",
      "Project name: autopi_inter\n",
      "dataPath: /adata/projects/autopi_inter/\n",
      "dlcModelPath: /adata/models\n",
      "Reading /adata/projects/autopi_inter//sessionList\n",
      "We have 180 testing sessions in the list\n",
      "spikeA.Kilosort_session objects are in sSessions\n"
     ]
    }
   ],
   "source": [
    "%run ../../setup_project.py\n",
    "%run ../../neuronAutopi.py\n",
    "\n",
    "%run ../../generic_plot_functions.py\n",
    "\n",
    "projectName, dataPath, dlcModelPath, myProject, sSessions = setup_project_session_lists(projectName=\"autopi_inter\",\n",
    "                                                                dataPath=\"/adata/projects/autopi_inter/\",dlcModelPath=\"/adata/models\")\n"
   ]
  },
  {
   "cell_type": "code",
   "execution_count": 451,
   "id": "ef2a8dd2-ba65-42ba-95b7-33545043c965",
   "metadata": {},
   "outputs": [
    {
     "name": "stdout",
     "output_type": "stream",
     "text": [
      "Loading Animal_pose and Spike_train, sSes.ap and sSes.cg\n",
      "Will load .pose.npy\n"
     ]
    },
    {
     "name": "stderr",
     "output_type": "stream",
     "text": [
      "100%|█████████████████████████████████████████████████████████████████████████████████████████████████████| 2/2 [00:06<00:00,  3.13s/it]"
     ]
    },
    {
     "name": "stdout",
     "output_type": "stream",
     "text": [
      "Loading ses.trial_table_simple as ses.trials\n",
      "Create condition intervals in ses.intervalDict\n"
     ]
    },
    {
     "name": "stderr",
     "output_type": "stream",
     "text": [
      "\n"
     ]
    }
   ],
   "source": [
    "#prepareSessionsForSpatialAnalysisProject(sSessions[:],myProject.sessionList[:]) ### sSeslist >>>> sSessions\n",
    "\n",
    "prepareSessionsForSpatialAnalysisProject(sSessions[152:154],myProject.sessionList[152:154]) ### sSeslist >>>> sSessions\n",
    "#prepareSessionsForSpatialAnalysisProject(sSessions[64:67],myProject.sessionList[64:67]) ### sSeslist >>>> sSessions"
   ]
  },
  {
   "cell_type": "code",
   "execution_count": 452,
   "id": "ba9b77cb-a301-435f-99a3-bd5683e923bb",
   "metadata": {},
   "outputs": [
    {
     "name": "stderr",
     "output_type": "stream",
     "text": [
      "2it [00:00, 40.60it/s]\n"
     ]
    }
   ],
   "source": [
    "#for ses, sSes in tqdm(zip(myProject.sessionList[:],sSessions[:])):\n",
    "for ses, sSes in tqdm(zip(myProject.sessionList[152:154],sSessions[152:154])):\n",
    "#for ses, sSes in tqdm(zip(myProject.sessionList[64:67],sSessions[64:67])):\n",
    "    getSearchHomingIntervals(ses, sSes)"
   ]
  },
  {
   "cell_type": "code",
   "execution_count": 453,
   "id": "bc6bb74b-0d0d-498a-a146-c94a71a0fb83",
   "metadata": {},
   "outputs": [
    {
     "name": "stdout",
     "output_type": "stream",
     "text": [
      "loading /adata/projects/autopi_inter//results/cells_with_leverCells.csv\n",
      "loading behavior_180_v2.csv\n",
      "CPU times: user 138 ms, sys: 699 µs, total: 139 ms\n",
      "Wall time: 138 ms\n"
     ]
    }
   ],
   "source": [
    "%%time\n",
    "\n",
    "fn=myProject.dataPath+\"/results/cells_with_leverCells.csv\"\n",
    "print('loading', fn)\n",
    "cells = pd.read_csv(fn)\n",
    "\n",
    "## load the levertime press \n",
    "fn ='behavior_180_v2.csv'\n",
    "print('loading', fn)\n",
    "\n",
    "res = pd.read_csv(fn)\n",
    "###\n",
    "df_HDInfoSingle = pd.read_csv('df_HDInfo.csv') \n"
   ]
  },
  {
   "cell_type": "markdown",
   "id": "56895547-6ee5-49f4-b7ef-90ec75e1baaa",
   "metadata": {},
   "source": [
    "get the session index for sessions with more than 10 FS cells\n"
   ]
  },
  {
   "cell_type": "code",
   "execution_count": 454,
   "id": "95f77734-5666-43cf-b389-33e11c080bcf",
   "metadata": {},
   "outputs": [],
   "source": [
    "filtered_cells = cells[(cells['interneuron']) & (cells['mrate_RF1'] > 10)]\n",
    "session_counts = filtered_cells.groupby('session').size()\n",
    "\n",
    "# Count how many sessions have more than one FS cell meeting the criteria\n",
    "num_sessions = (session_counts >= 10).sum()\n",
    "sessionList = session_counts[session_counts >= 10].index.tolist()\n",
    "num_sessions \n",
    "\n",
    "sessionList[0]\n",
    "Mylists=[]\n",
    "for sesName in sessionList:\n",
    "    Mylists.append([sSes.name for sSes in sSessions].index(sesName)) "
   ]
  },
  {
   "cell_type": "code",
   "execution_count": null,
   "id": "f8b71189-fdc6-4f63-9fe8-f6de5400f128",
   "metadata": {},
   "outputs": [],
   "source": []
  },
  {
   "cell_type": "code",
   "execution_count": 455,
   "id": "d2d601a6-b5e4-46f7-940e-e424679334d5",
   "metadata": {},
   "outputs": [],
   "source": [
    "def run_evalute_model(sSes, ses, interName,cells, ctype='fs', sigma_ifr=5): \n",
    "    # Check if there are more than 1 FS cells in the session\n",
    "    FS_count = cells[(cells.interneuron) & (cells.mrate_RF1 > 10) & (cells.session == sSes.name)].shape[0]\n",
    "    if FS_count >= 1:\n",
    "               \n",
    "        train_dataset, test_dataset, train_data_loader, test_data_loader, myDict, config= get_test_training_datas_oneSession(sSes, ses, cells,interName, ctype= 'fs', sigma_ifr= 5, maxDistance= 18, rotationType=\"none\")\n",
    "        \n",
    "        ### get my model \n",
    "        device = (torch.device('cuda') if torch.cuda.is_available() else torch.device('cpu'))\n",
    "        model = LSTM(config[\"n_cells\"], config[\"hidden_size\"], config[\"num_layers\"], config[\"num_outputs\"],config[\"seq_length\"],device=device).to(device)\n",
    "        #print(\"Device available:\", device)\n",
    "\n",
    "        #optimizer = torch.optim.Adam(model.parameters(),lr=config[\"learning_rate\"])\n",
    "        optimizer = torch.optim.SGD(model.parameters(),lr=config[\"learning_rate\"])\n",
    "        loss_fn = torch.nn.MSELoss() # \n",
    "        model.train()\n",
    "\n",
    "\n",
    "        ### train the model \n",
    "        df, best_model_state = training_loop(n_epochs=config[\"num_epochs\"],\n",
    "                     optimizer=optimizer,\n",
    "                     model = model,\n",
    "                     loss_fn = loss_fn,\n",
    "                     train_data_loader=train_data_loader,\n",
    "                     test_data_loader=test_data_loader, #changed to look at prediction in training dataset\n",
    "                     config=config,\n",
    "                     device = device,\n",
    "                     verbose=False)\n",
    "    \n",
    "        mse_test, outputs_test, labels_test = get_labels_and_outputs_mse(model, test_data_loader, device)\n",
    "        mse_train, outputs_train, labels_train = get_labels_and_outputs_mse(model, train_data_loader, device)\n",
    "\n",
    "        myMetrics= {'session': sSes.name,\n",
    "                   'df': df, \n",
    "                   'mse_test': mse_test, \n",
    "                   'outputs_test': outputs_test, \n",
    "                    'labels_test': labels_test, \n",
    "                    'mse_train': mse_train, \n",
    "                    'outputs_train': outputs_train,\n",
    "                    'labels_train':labels_train,\n",
    "                    'config': config\n",
    "               }\n",
    "        \n",
    "    else:\n",
    "        myMetrics=np.nan\n",
    "    return myMetrics\n",
    "\n",
    "def plot_summary_model_one_session(gs, sesName, df, Angle_test, Angle_test_pred, Angle_train, Angle_train_pred, shuffle, n_epochs, iteration ):\n",
    "    \n",
    "    #########################################\n",
    "    ## plo the epochs and  test/training loss\n",
    "    #########################################\n",
    "    ax= fig.add_subplot(gs[0,0])\n",
    "    ax.plot(df.epochs, df.train_loss, label= 'Train.')\n",
    "    ax.plot(df.epochs, df.test_loss, label= 'Test')\n",
    "    ax.spines['top'].set_visible(False)\n",
    "    ax.spines['right'].set_visible(False)\n",
    "    ax.legend(loc= 'center')\n",
    "    ax.set_xlabel('epochs')\n",
    "    ax.set_ylabel('loss values')\n",
    "    ax.set_title('{} \\n epochs:{} ' .format(sesName, n_epochs), fontsize=9)\n",
    "    ax.legend(loc='upper center', bbox_to_anchor=(0.9, 1.0), fancybox=True, shadow=True, fontsize=7)\n",
    "    \n",
    "    ##################################\n",
    "    ## plot angle and pred. angle in test and training datasets:\n",
    "    ###################################\n",
    "    #Angle_test = np.arctan2(labels_test[:,0], labels_test[:,1])\n",
    "    #Angle_test_pred = np.arctan2(outputs_test[:,0], outputs_test[:,1])\n",
    "    \n",
    "    ax= fig.add_subplot(gs[0,1])\n",
    "    ax.scatter(Angle_train, Angle_train_pred, s= 0.1)\n",
    "    ax.set_xlabel('Angles ')##\n",
    "    ax.set_ylabel('predicted Angles')\n",
    "    ax.spines['top'].set_visible(False)\n",
    "    ax.spines['right'].set_visible(False)\n",
    "    r,p= pearsonr(Angle_train, Angle_train_pred)\n",
    "    circr= abs(circcorrcoef(Angle_train, Angle_train_pred)) \n",
    "    ax.set_title('Train \\n r:{:.2f} \\n cir.r: {:.2f}'.format(r,circr ), fontsize=9)\n",
    "    # plot the identity line\n",
    "    ax.plot([min(Angle_train), max(Angle_train)], [min(Angle_train_pred), max(Angle_train_pred)], color='red', label=f'Iden. line')\n",
    "    \n",
    "    ax= fig.add_subplot(gs[0,2])\n",
    "    ax.scatter(Angle_test, Angle_test_pred, s= 0.1)\n",
    "    ax.set_xlabel('Angles ')##\n",
    "    ax.set_ylabel('predicted Angles')\n",
    "    ax.spines['top'].set_visible(False)\n",
    "    ax.spines['right'].set_visible(False)\n",
    "\n",
    "    r,p= pearsonr(Angle_test, Angle_test_pred)\n",
    "    circr= abs(circcorrcoef(Angle_test, Angle_test_pred))\n",
    "    ax.set_title('Test \\n r:{:.2f}  \\n cir.r: {:.2f}'.format(r, circr), fontsize=9)\n",
    "    # plot the identity line\n",
    "    ax.plot([min(Angle_test), max(Angle_test)], [min(Angle_test_pred), max(Angle_test_pred)], color='red', label=f'Iden. line')\n",
    "    \n",
    "    \n",
    "    ## plot the model against the shuffle value \n",
    "    ax= fig.add_subplot(gs[0,3])\n",
    "    ax.hist(shuffle.r_test)\n",
    "    threshold= np.percentile(shuffle.r_test,95)\n",
    "    ax.axvline(x=threshold, color='black', linestyle='--', linewidth=2, label='thr.')\n",
    "    r_original,p= pearsonr(Angle_test, Angle_test_pred)\n",
    "    ax.axvline(x=r_original, color='red', linestyle='-', linewidth=2, label='ori. r')\n",
    "    ax.set_title(f'Test \\n iteration:{iteration}, n_fs:{shuffle.df.iloc[0].n_cells.iloc[0]}', fontsize=9)\n",
    "    ax.set_xlabel('Pearson r ')##\n",
    "    ax.set_ylabel('Count')\n",
    "    ax.spines['top'].set_visible(False)\n",
    "    ax.spines['right'].set_visible(False)\n",
    "    ax.legend(loc='upper center', bbox_to_anchor=(1.7, 1.0), fancybox=True, shadow=True)\n",
    "    \n",
    "    #####################################################\n",
    "    ### plot the 2d density plot for angle vs pred. angle \n",
    "    #####################################################\n",
    "\n",
    "    ax= fig.add_subplot(gs[1,0])\n",
    "    sns.kdeplot(x=Angle_test, y=Angle_test_pred, cmap=\"viridis\", fill=True)\n",
    "    ax.set_xlabel('Angles (pi)', fontsize=9)##\n",
    "    ax.set_ylabel(' Predicted Angles (pi)', fontsize=9)##\n",
    "    ax.spines['top'].set_visible(False)\n",
    "    ax.spines['right'].set_visible(False)\n",
    "\n",
    "    ###########\n",
    "    ## check if i can get the location of the animal around the lever and compare it with the real location\n",
    "    ###############\n",
    "    x =  np.cos(Angle_test)\n",
    "    y = np.sin(Angle_test)\n",
    "    x_ =  np.cos(Angle_test_pred)\n",
    "    y_ = np.sin(Angle_test_pred)\n",
    "\n",
    "    ax= fig.add_subplot(gs[1,1])\n",
    "    ax.scatter(x[10:50],y[10:50], s= 0.7, c= 'darkgray', label='data')\n",
    "    ax.scatter(x_[10:50]+0.04,y_[10:50]+0.11, s= 0.8, c= 'red', label= 'predicted data')\n",
    "    ax.axis('off')\n",
    "    r,p= pearsonr(x, x_)\n",
    "    ax.set_title(f'r:{r:.2f}, Ex.1', fontsize= 9)\n",
    "\n",
    "    ax= fig.add_subplot(gs[1,2])\n",
    "    ax.scatter(x[60:100],y[60:100], s= 0.7, c= 'darkgray', label='data')\n",
    "    ax.scatter(x_[60:100]+0.04,y_[60:100]+0.11, s= 0.8, c= 'red', label= 'pred. data')\n",
    "    ax.axis('off')\n",
    "    r,p= pearsonr(x, x_)\n",
    "    ax.set_title(f'r:{r:.2f}, Ex.2', fontsize= 9)\n",
    "    \n",
    "    ax= fig.add_subplot(gs[1,3])\n",
    "    ax.scatter(x[110:150],y[110:150], s= 0.7, c= 'darkgray', label='data')\n",
    "    ax.scatter(x_[110:150]+0.04,y_[110:150]+0.11, s= 0.8, c= 'red', label= 'pred. data')\n",
    "    ax.axis('off')\n",
    "    r,p= pearsonr(x, x_)\n",
    "    ax.set_title(f'r:{r:.2f}, Ex.3', fontsize= 9)\n",
    "    ax.legend(loc='upper center', bbox_to_anchor=(1.7, 1.0), fancybox=True, shadow=True)\n"
   ]
  },
  {
   "cell_type": "code",
   "execution_count": 458,
   "id": "079c2cb5-1190-4530-b1a9-0125310dc08a",
   "metadata": {},
   "outputs": [],
   "source": [
    "ses= myProject.sessionList[152]\n",
    "sSes= sSessions[152]\n",
    "\n",
    "ctype= 'fs'\n",
    "sigma_ifr= 5\n",
    "interName= 'atLever_light'\n",
    "## RUN THE MODEL\n",
    "myMetrics = run_evalute_model(sSes, ses, interName,cells, ctype=ctype, sigma_ifr=sigma_ifr)\n"
   ]
  },
  {
   "cell_type": "markdown",
   "id": "3d8d29ae-7820-4377-a9d0-064156d6350c",
   "metadata": {},
   "source": [
    "Plot some example from the model and compare it with shuffled value "
   ]
  },
  {
   "cell_type": "code",
   "execution_count": 459,
   "id": "19e73204-9cd0-4d3f-91a3-d9f44439d9f8",
   "metadata": {},
   "outputs": [
    {
     "data": {
      "image/png": "[encoded data removed]",
      "text/plain": [
       "<Figure size 1200x400 with 8 Axes>"
      ]
     },
     "metadata": {},
     "output_type": "display_data"
    }
   ],
   "source": [
    "col = 6\n",
    "row = 2\n",
    "sizePerRow, sizePerCol = 2, 2\n",
    "fig = plt.figure(figsize=(col * sizePerCol, row * sizePerRow), constrained_layout=True)\n",
    "gs = gridspec.GridSpec(row, col, figure=fig, wspace=0)\n",
    "\n",
    "shuffled_directory= '/adata/projects/autopi_inter/results/interneurons_decoding_angleAroundlever/500_shuffle/'\n",
    "fn= f'{shuffled_directory}{sSes.name}_{interName}_shuffled_values.pkl'\n",
    "shuffle= pd.read_pickle(fn)\n",
    "\n",
    "Angle_train = np.arctan2(myMetrics['labels_train'][:,0], myMetrics['labels_train'][:,1])\n",
    "Angle_train_pred = np.arctan2(myMetrics['outputs_train'][:,0], myMetrics['outputs_train'][:,1])\n",
    "\n",
    "Angle_test = np.arctan2( myMetrics['labels_test'][:,0], myMetrics['labels_test'][:,1])\n",
    "Angle_test_pred = np.arctan2(myMetrics['outputs_test'][:,0], myMetrics['outputs_test'][:,1])\n",
    "\n",
    "plot_summary_model_one_session(gs,sSes.name, myMetrics['df'], Angle_test, Angle_test_pred, Angle_train, Angle_train_pred, shuffle, n_epochs= 100, iteration= 500 )"
   ]
  },
  {
   "cell_type": "code",
   "execution_count": null,
   "id": "c2adac10-775e-404d-818e-5df9b23819e0",
   "metadata": {},
   "outputs": [],
   "source": []
  },
  {
   "cell_type": "code",
   "execution_count": null,
   "id": "3b76d7ca-c4dd-4b79-ad25-70e4538b6ec9",
   "metadata": {},
   "outputs": [],
   "source": []
  },
  {
   "cell_type": "markdown",
   "id": "1242a3d0-cd4b-48a8-a695-e659d79a47ab",
   "metadata": {},
   "source": [
    "## Create summary figure for each session"
   ]
  },
  {
   "cell_type": "markdown",
   "id": "b0ac89f6-f06c-4fb4-9b82-6cf377ad5151",
   "metadata": {},
   "source": [
    "Make a function that :\n",
    "\n",
    " + go through each session, load the shuffled_df \n",
    " + load the original model for all the sessions \n",
    " \n",
    " \n",
    "access the shuffled_df for each session on:\n",
    "\n"
   ]
  },
  {
   "cell_type": "markdown",
   "id": "20937bc9-bf55-4e2d-8c47-b72f9b43a60e",
   "metadata": {},
   "source": [
    "## 500_shuffled"
   ]
  },
  {
   "cell_type": "code",
   "execution_count": 444,
   "id": "1425c8f5-6e22-4794-beb2-c87346e1fe6b",
   "metadata": {},
   "outputs": [],
   "source": [
    "from matplotlib.backends.backend_pdf import PdfPages\n",
    "import os\n",
    "directory= '/adata/projects/autopi_inter/results/interneurons_decoding_angleAroundlever/500_shuffle/'\n",
    "\n",
    "file_names = [f for f in os.listdir(directory) if os.path.isfile(os.path.join(directory, f))]\n",
    "SessionList= [f.split('_')[0] for f in file_names]\n",
    "SesIndxs= [[sSes.name for sSes in sSessions].index(sesName) for sesName in SessionList ]"
   ]
  },
  {
   "cell_type": "code",
   "execution_count": 302,
   "id": "105b1925-b253-4e93-a304-55146746edcc",
   "metadata": {},
   "outputs": [
    {
     "name": "stdout",
     "output_type": "stream",
     "text": [
      "PDF saved to /adata/projects/autopi_inter/results/interneurons_decoding_angleAroundlever/sessions_model_plot/atLeverLight/jp486-02032023-0108_atLeverLight_500.pdf\n",
      "PDF saved to /adata/projects/autopi_inter/results/interneurons_decoding_angleAroundlever/sessions_model_plot/atLeverLight/jp486-05032023-0108_atLeverLight_500.pdf\n",
      "PDF saved to /adata/projects/autopi_inter/results/interneurons_decoding_angleAroundlever/sessions_model_plot/atLeverLight/jp486-16032023-0108_atLeverLight_500.pdf\n",
      "PDF saved to /adata/projects/autopi_inter/results/interneurons_decoding_angleAroundlever/sessions_model_plot/atLeverLight/jp486-27022023-0108_atLeverLight_500.pdf\n",
      "PDF saved to /adata/projects/autopi_inter/results/interneurons_decoding_angleAroundlever/sessions_model_plot/atLeverLight/jp486-17032023-0108_atLeverLight_500.pdf\n",
      "PDF saved to /adata/projects/autopi_inter/results/interneurons_decoding_angleAroundlever/sessions_model_plot/atLeverLight/jp486-10032023-0108_atLeverLight_500.pdf\n",
      "PDF saved to /adata/projects/autopi_inter/results/interneurons_decoding_angleAroundlever/sessions_model_plot/atLeverLight/jp486-09032023-0108_atLeverLight_500.pdf\n",
      "PDF saved to /adata/projects/autopi_inter/results/interneurons_decoding_angleAroundlever/sessions_model_plot/atLeverLight/jp486-19032023-0108_atLeverLight_500.pdf\n",
      "PDF saved to /adata/projects/autopi_inter/results/interneurons_decoding_angleAroundlever/sessions_model_plot/atLeverLight/jp499-24052023-0108_atLeverLight_500.pdf\n",
      "PDF saved to /adata/projects/autopi_inter/results/interneurons_decoding_angleAroundlever/sessions_model_plot/atLeverLight/jp486-20032023-0108_atLeverLight_500.pdf\n",
      "PDF saved to /adata/projects/autopi_inter/results/interneurons_decoding_angleAroundlever/sessions_model_plot/atLeverLight/jp486-15032023-0108_atLeverLight_500.pdf\n",
      "PDF saved to /adata/projects/autopi_inter/results/interneurons_decoding_angleAroundlever/sessions_model_plot/atLeverLight/jp486-01032023-0108_atLeverLight_500.pdf\n",
      "PDF saved to /adata/projects/autopi_inter/results/interneurons_decoding_angleAroundlever/sessions_model_plot/atLeverLight/jp486-18032023-0108_atLeverLight_500.pdf\n",
      "PDF saved to /adata/projects/autopi_inter/results/interneurons_decoding_angleAroundlever/sessions_model_plot/atLeverLight/jp452-09112022-0108_atLeverLight_500.pdf\n",
      "PDF saved to /adata/projects/autopi_inter/results/interneurons_decoding_angleAroundlever/sessions_model_plot/atLeverLight/jp486-14032023-0108_atLeverLight_500.pdf\n",
      "PDF saved to /adata/projects/autopi_inter/results/interneurons_decoding_angleAroundlever/sessions_model_plot/atLeverLight/jp486-07032023-0108_atLeverLight_500.pdf\n",
      "PDF saved to /adata/projects/autopi_inter/results/interneurons_decoding_angleAroundlever/sessions_model_plot/atLeverLight/jp3129-03062022-0108_atLeverLight_500.pdf\n",
      "PDF saved to /adata/projects/autopi_inter/results/interneurons_decoding_angleAroundlever/sessions_model_plot/atLeverLight/jp486-03032023-0108_atLeverLight_500.pdf\n",
      "PDF saved to /adata/projects/autopi_inter/results/interneurons_decoding_angleAroundlever/sessions_model_plot/atLeverLight/jp486-13032023-0108_atLeverLight_500.pdf\n",
      "PDF saved to /adata/projects/autopi_inter/results/interneurons_decoding_angleAroundlever/sessions_model_plot/atLeverLight/jp486-22032023-0108_atLeverLight_500.pdf\n",
      "PDF saved to /adata/projects/autopi_inter/results/interneurons_decoding_angleAroundlever/sessions_model_plot/atLeverLight/mn8599-19012022-0107_atLeverLight_500.pdf\n"
     ]
    }
   ],
   "source": [
    "for i, (sesind, f) in enumerate(zip(SesIndxs[:], file_names[:])): \n",
    "    #print(i, sesind)\n",
    "    sSes= sSessions[sesind]\n",
    "    ses= myProject.sessionList[sesind]\n",
    "    \n",
    "    mymodel= allSessions_df[allSessions_df.session== sSes.name]\n",
    "    fn= directory + f\n",
    "    shuffle= pd.read_pickle(fn)\n",
    "  \n",
    "\n",
    "    col = 4\n",
    "    row = 2\n",
    "    sizePerRow, sizePerCol = 2.7, 2.7\n",
    "    fig = plt.figure(figsize=(col * sizePerCol, row * sizePerRow), constrained_layout=True)\n",
    "    gs = gridspec.GridSpec(row, col, figure=fig, wspace=0)\n",
    "\n",
    "    # Directory to save the PDF files\n",
    "    output_dir = \"/adata/projects/autopi_inter/results/interneurons_decoding_angleAroundlever/sessions_model_plot/atLeverLight/\"\n",
    "    os.makedirs(output_dir, exist_ok=True)  # Ensure the directory exists\n",
    "\n",
    "    # Initialize the PDF file\n",
    "    fn= sSes.name+ '_atLeverLight_500.pdf'\n",
    "    pdf_file = os.path.join(output_dir, fn)\n",
    "     \n",
    "    with PdfPages(pdf_file) as pdf:\n",
    "\n",
    "        plot_summary_model_one_session(gs,sSes.name, mymodel.df.iloc[0], mymodel.Angle_test.iloc[0], mymodel.Angle_test_pred.iloc[0], mymodel.Angle_train.iloc[0], \n",
    "                                          mymodel.Angle_train_pred.iloc[0], shuffle, n_epochs= 100, iteration= 500 )\n",
    "        # Add the current figure to the PDF\n",
    "        pdf.savefig(fig)\n",
    "        plt.close(fig)  # Close the figure to free up memory\n",
    "\n",
    "        print(f\"PDF saved to {pdf_file}\")"
   ]
  },
  {
   "cell_type": "markdown",
   "id": "20fe38d1-c419-4611-945f-d8eb6f5340e0",
   "metadata": {},
   "source": [
    "Merge all the sessions in a single pdf file:"
   ]
  },
  {
   "cell_type": "code",
   "execution_count": 446,
   "id": "aa9e68cb-f589-4a92-931a-8d8c75479ea1",
   "metadata": {},
   "outputs": [
    {
     "name": "stdout",
     "output_type": "stream",
     "text": [
      "Total pages in merged PDF: 22\n"
     ]
    }
   ],
   "source": [
    "from PyPDF2 import PdfMerger\n",
    "directory= '/adata/projects/autopi_inter/results/interneurons_decoding_angleAroundlever/sessions_model_plot/atLeverLight/500_shuffle/'\n",
    "output_file = \"/adata/projects/autopi_inter/results/interneurons_decoding_angleAroundlever/sessions_model_plot/atLeverLight/500_shuffle/allSessions_500_atLeverLight.pdf\"\n",
    "\n",
    "# Initialize the PdfMerger\n",
    "merger = PdfMerger()\n",
    "\n",
    "# Find all PDF files in the directory\n",
    "pdf_files = [f for f in os.listdir(directory) if f.endswith('.pdf')]\n",
    "pdf_files.sort()  # Sort files alphabetically (optional)\n",
    "\n",
    "# Loop through and append each PDF to the merger\n",
    "for pdf in pdf_files:\n",
    "    file_path = os.path.join(directory, pdf)\n",
    "    merger.append(file_path)\n",
    "\n",
    "# Write the merged PDF to disk\n",
    "merger.write(output_file)\n",
    "merger.close()\n",
    "\n",
    "from PyPDF2 import PdfReader\n",
    "reader = PdfReader(output_file)\n",
    "print(f\"Total pages in merged PDF: {len(reader.pages)}\")"
   ]
  },
  {
   "cell_type": "code",
   "execution_count": null,
   "id": "632ed9fb-4631-4257-bc16-65fd38e35957",
   "metadata": {},
   "outputs": [],
   "source": []
  },
  {
   "cell_type": "markdown",
   "id": "22a523a0-401f-4920-978a-1d49db6ac7a2",
   "metadata": {},
   "source": [
    "## 100_shuffle"
   ]
  },
  {
   "cell_type": "markdown",
   "id": "56a117a1-784e-4893-ad82-8e947b6a986f",
   "metadata": {},
   "source": [
    "make the same figure for 100 shuffles : \n"
   ]
  },
  {
   "cell_type": "code",
   "execution_count": 447,
   "id": "6d378c53-8b7c-467e-9741-838de9551890",
   "metadata": {},
   "outputs": [],
   "source": [
    "from matplotlib.backends.backend_pdf import PdfPages\n",
    "import os\n",
    "directory= '/adata/projects/autopi_inter/results/interneurons_decoding_angleAroundlever/100_shuffle/'\n",
    "\n",
    "file_names = [f for f in os.listdir(directory) if os.path.isfile(os.path.join(directory, f))]\n",
    "## only the light intervals\n",
    "light_files = [file for file in file_names if 'light' in file]\n",
    "dark_files = [file for file in file_names if 'dark' in file]\n",
    "\n",
    "SessionListLight= [f.split('_')[0] for f in light_files]\n",
    "SessionListDark= [f.split('_')[0] for f in dark_files]\n",
    "\n",
    "SesIndxsL= [[sSes.name for sSes in sSessions].index(sesName) for sesName in SessionListLight]\n",
    "SesIndxsD= [[sSes.name for sSes in sSessions].index(sesName) for sesName in SessionListDark]"
   ]
  },
  {
   "cell_type": "code",
   "execution_count": 448,
   "id": "31515535-7ad0-4869-859b-8325bcd31898",
   "metadata": {},
   "outputs": [
    {
     "data": {
      "text/plain": [
       "153"
      ]
     },
     "execution_count": 448,
     "metadata": {},
     "output_type": "execute_result"
    }
   ],
   "source": [
    "len(SesIndxsL)"
   ]
  },
  {
   "cell_type": "code",
   "execution_count": 337,
   "id": "91274b9f-e433-4ac8-a710-2fc3a1f9d24d",
   "metadata": {},
   "outputs": [
    {
     "name": "stdout",
     "output_type": "stream",
     "text": [
      "PDF saved to /adata/projects/autopi_inter/results/interneurons_decoding_angleAroundlever/sessions_model_plot/atLeverLight/100_shuffle/mn8599-16022022-0107_atLeverLight_100.pdf\n",
      "PDF already exists for mn8599-22012022-0108. Skipping...\n",
      "PDF saved to /adata/projects/autopi_inter/results/interneurons_decoding_angleAroundlever/sessions_model_plot/atLeverLight/100_shuffle/jp1686-26042022-0108_atLeverLight_100.pdf\n",
      "PDF saved to /adata/projects/autopi_inter/results/interneurons_decoding_angleAroundlever/sessions_model_plot/atLeverLight/100_shuffle/mn8599-09022022-0107_atLeverLight_100.pdf\n",
      "PDF saved to /adata/projects/autopi_inter/results/interneurons_decoding_angleAroundlever/sessions_model_plot/atLeverLight/100_shuffle/mn8599-26012022-0107_atLeverLight_100.pdf\n",
      "PDF already exists for jp486-02032023-0108. Skipping...\n",
      "PDF saved to /adata/projects/autopi_inter/results/interneurons_decoding_angleAroundlever/sessions_model_plot/atLeverLight/100_shuffle/jp452-21112022-0108_atLeverLight_100.pdf\n",
      "PDF saved to /adata/projects/autopi_inter/results/interneurons_decoding_angleAroundlever/sessions_model_plot/atLeverLight/100_shuffle/jp1686-21042022-0107_atLeverLight_100.pdf\n",
      "PDF saved to /adata/projects/autopi_inter/results/interneurons_decoding_angleAroundlever/sessions_model_plot/atLeverLight/100_shuffle/jp1687-23052022-0108_atLeverLight_100.pdf\n",
      "PDF saved to /adata/projects/autopi_inter/results/interneurons_decoding_angleAroundlever/sessions_model_plot/atLeverLight/100_shuffle/jp1686-28042022-0107_atLeverLight_100.pdf\n",
      "PDF already exists for jp499-23052023-0108. Skipping...\n",
      "PDF already exists for jp486-05032023-0108. Skipping...\n",
      "PDF saved to /adata/projects/autopi_inter/results/interneurons_decoding_angleAroundlever/sessions_model_plot/atLeverLight/100_shuffle/mn8578-27122021-0107_atLeverLight_100.pdf\n",
      "PDF saved to /adata/projects/autopi_inter/results/interneurons_decoding_angleAroundlever/sessions_model_plot/atLeverLight/100_shuffle/jp1685-25042022-0108_atLeverLight_100.pdf\n",
      "PDF already exists for jp486-16032023-0108. Skipping...\n",
      "PDF saved to /adata/projects/autopi_inter/results/interneurons_decoding_angleAroundlever/sessions_model_plot/atLeverLight/100_shuffle/jp1685-27042022-0108_atLeverLight_100.pdf\n",
      "PDF already exists for jp3129-08062022-0108. Skipping...\n",
      "PDF saved to /adata/projects/autopi_inter/results/interneurons_decoding_angleAroundlever/sessions_model_plot/atLeverLight/100_shuffle/jp3120-26052022-0107_atLeverLight_100.pdf\n",
      "PDF saved to /adata/projects/autopi_inter/results/interneurons_decoding_angleAroundlever/sessions_model_plot/atLeverLight/100_shuffle/jp1684-15052022-0107_atLeverLight_100.pdf\n",
      "PDF already exists for jp3129-02062022-0108. Skipping...\n",
      "PDF saved to /adata/projects/autopi_inter/results/interneurons_decoding_angleAroundlever/sessions_model_plot/atLeverLight/100_shuffle/jp1686-25042022-0107_atLeverLight_100.pdf\n",
      "PDF saved to /adata/projects/autopi_inter/results/interneurons_decoding_angleAroundlever/sessions_model_plot/atLeverLight/100_shuffle/jp452-11112022-0109_atLeverLight_100.pdf\n",
      "PDF saved to /adata/projects/autopi_inter/results/interneurons_decoding_angleAroundlever/sessions_model_plot/atLeverLight/100_shuffle/jp1685-26042022-0108_atLeverLight_100.pdf\n",
      "PDF saved to /adata/projects/autopi_inter/results/interneurons_decoding_angleAroundlever/sessions_model_plot/atLeverLight/100_shuffle/jp487-12022023-0108_atLeverLight_100.pdf\n",
      "PDF already exists for jp487-05022023-0108. Skipping...\n",
      "PDF saved to /adata/projects/autopi_inter/results/interneurons_decoding_angleAroundlever/sessions_model_plot/atLeverLight/100_shuffle/jp3129-04062022-0108_atLeverLight_100.pdf\n",
      "PDF saved to /adata/projects/autopi_inter/results/interneurons_decoding_angleAroundlever/sessions_model_plot/atLeverLight/100_shuffle/jp1084-07042022-0107_atLeverLight_100.pdf\n",
      "PDF saved to /adata/projects/autopi_inter/results/interneurons_decoding_angleAroundlever/sessions_model_plot/atLeverLight/100_shuffle/jp1686-29042022-0109_atLeverLight_100.pdf\n",
      "PDF already exists for mn8599-11022022-0107. Skipping...\n",
      "PDF saved to /adata/projects/autopi_inter/results/interneurons_decoding_angleAroundlever/sessions_model_plot/atLeverLight/100_shuffle/jp3120-19052022-0107_atLeverLight_100.pdf\n",
      "PDF saved to /adata/projects/autopi_inter/results/interneurons_decoding_angleAroundlever/sessions_model_plot/atLeverLight/100_shuffle/mn8599-04022022-0107_atLeverLight_100.pdf\n",
      "PDF saved to /adata/projects/autopi_inter/results/interneurons_decoding_angleAroundlever/sessions_model_plot/atLeverLight/100_shuffle/jp451-05112022-0110_atLeverLight_100.pdf\n",
      "PDF already exists for mn8599-18012022-0107. Skipping...\n",
      "PDF saved to /adata/projects/autopi_inter/results/interneurons_decoding_angleAroundlever/sessions_model_plot/atLeverLight/100_shuffle/jp3120-16052022-0107_atLeverLight_100.pdf\n",
      "PDF already exists for mn8599-25012022-0107. Skipping...\n",
      "PDF already exists for jp3129-06062022-0107. Skipping...\n",
      "PDF saved to /adata/projects/autopi_inter/results/interneurons_decoding_angleAroundlever/sessions_model_plot/atLeverLight/100_shuffle/jp3120-25052022-0107_atLeverLight_100.pdf\n",
      "PDF saved to /adata/projects/autopi_inter/results/interneurons_decoding_angleAroundlever/sessions_model_plot/atLeverLight/100_shuffle/jp3129-09062022-0108_atLeverLight_100.pdf\n",
      "PDF already exists for jp486-27022023-0108. Skipping...\n",
      "PDF saved to /adata/projects/autopi_inter/results/interneurons_decoding_angleAroundlever/sessions_model_plot/atLeverLight/100_shuffle/jp451-28102022-0108_atLeverLight_100.pdf\n",
      "PDF saved to /adata/projects/autopi_inter/results/interneurons_decoding_angleAroundlever/sessions_model_plot/atLeverLight/100_shuffle/jp452-16112022-0108_atLeverLight_100.pdf\n",
      "PDF already exists for mn8578-25122021-0107. Skipping...\n",
      "PDF already exists for jp486-17032023-0108. Skipping...\n",
      "PDF saved to /adata/projects/autopi_inter/results/interneurons_decoding_angleAroundlever/sessions_model_plot/atLeverLight/100_shuffle/jp1084-06042022-0107_atLeverLight_100.pdf\n",
      "PDF saved to /adata/projects/autopi_inter/results/interneurons_decoding_angleAroundlever/sessions_model_plot/atLeverLight/100_shuffle/jp3120-23052022-0108_atLeverLight_100.pdf\n",
      "PDF already exists for mn8599-10022022-0107. Skipping...\n",
      "PDF saved to /adata/projects/autopi_inter/results/interneurons_decoding_angleAroundlever/sessions_model_plot/atLeverLight/100_shuffle/mn8578-28122021-0107_atLeverLight_100.pdf\n",
      "PDF already exists for jp486-10032023-0108. Skipping...\n",
      "PDF saved to /adata/projects/autopi_inter/results/interneurons_decoding_angleAroundlever/sessions_model_plot/atLeverLight/100_shuffle/jp1687-24052022-0108_atLeverLight_100.pdf\n",
      "PDF saved to /adata/projects/autopi_inter/results/interneurons_decoding_angleAroundlever/sessions_model_plot/atLeverLight/100_shuffle/mn8578-08122021-0110_atLeverLight_100.pdf\n",
      "PDF saved to /adata/projects/autopi_inter/results/interneurons_decoding_angleAroundlever/sessions_model_plot/atLeverLight/100_shuffle/jp3129-10062022-0107_atLeverLight_100.pdf\n",
      "PDF saved to /adata/projects/autopi_inter/results/interneurons_decoding_angleAroundlever/sessions_model_plot/atLeverLight/100_shuffle/jp451-26102022-0108_atLeverLight_100.pdf\n",
      "PDF saved to /adata/projects/autopi_inter/results/interneurons_decoding_angleAroundlever/sessions_model_plot/atLeverLight/100_shuffle/mn8578-03012022-0107_atLeverLight_100.pdf\n",
      "PDF already exists for jp486-06032023-0108. Skipping...\n",
      "PDF saved to /adata/projects/autopi_inter/results/interneurons_decoding_angleAroundlever/sessions_model_plot/atLeverLight/100_shuffle/jp3269-29112022-0108_atLeverLight_100.pdf\n",
      "PDF saved to /adata/projects/autopi_inter/results/interneurons_decoding_angleAroundlever/sessions_model_plot/atLeverLight/100_shuffle/mn8578-07122021-0107_atLeverLight_100.pdf\n",
      "PDF saved to /adata/projects/autopi_inter/results/interneurons_decoding_angleAroundlever/sessions_model_plot/atLeverLight/100_shuffle/jp451-27102022-0108_atLeverLight_100.pdf\n",
      "PDF saved to /adata/projects/autopi_inter/results/interneurons_decoding_angleAroundlever/sessions_model_plot/atLeverLight/100_shuffle/jp1686-27042022-0107_atLeverLight_100.pdf\n",
      "PDF saved to /adata/projects/autopi_inter/results/interneurons_decoding_angleAroundlever/sessions_model_plot/atLeverLight/100_shuffle/jp3269-27112022-0108_atLeverLight_100.pdf\n",
      "PDF saved to /adata/projects/autopi_inter/results/interneurons_decoding_angleAroundlever/sessions_model_plot/atLeverLight/100_shuffle/jp1084-09042022-0107_atLeverLight_100.pdf\n",
      "PDF saved to /adata/projects/autopi_inter/results/interneurons_decoding_angleAroundlever/sessions_model_plot/atLeverLight/100_shuffle/mn8578-29122021-0107_atLeverLight_100.pdf\n",
      "PDF saved to /adata/projects/autopi_inter/results/interneurons_decoding_angleAroundlever/sessions_model_plot/atLeverLight/100_shuffle/jp452-23112022-0108_atLeverLight_100.pdf\n",
      "PDF saved to /adata/projects/autopi_inter/results/interneurons_decoding_angleAroundlever/sessions_model_plot/atLeverLight/100_shuffle/jp3269-28112022-0108_atLeverLight_100.pdf\n",
      "PDF saved to /adata/projects/autopi_inter/results/interneurons_decoding_angleAroundlever/sessions_model_plot/atLeverLight/100_shuffle/jp452-25112022-0110_atLeverLight_100.pdf\n",
      "PDF already exists for jp486-09032023-0108. Skipping...\n",
      "PDF saved to /adata/projects/autopi_inter/results/interneurons_decoding_angleAroundlever/sessions_model_plot/atLeverLight/100_shuffle/jp1687-26052022-0107_atLeverLight_100.pdf\n",
      "PDF saved to /adata/projects/autopi_inter/results/interneurons_decoding_angleAroundlever/sessions_model_plot/atLeverLight/100_shuffle/jp486-24032023-0108_atLeverLight_100.pdf\n",
      "PDF already exists for jp486-19032023-0108. Skipping...\n",
      "PDF already exists for jp499-24052023-0108. Skipping...\n"
     ]
    },
    {
     "name": "stderr",
     "output_type": "stream",
     "text": [
      "/tmp/ipykernel_647127/2902220964.py:12: RuntimeWarning: More than 20 figures have been opened. Figures created through the pyplot interface (`matplotlib.pyplot.figure`) are retained until explicitly closed and may consume too much memory. (To control this warning, see the rcParam `figure.max_open_warning`). Consider using `matplotlib.pyplot.close()`.\n",
      "  fig = plt.figure(figsize=(col * sizePerCol, row * sizePerRow), constrained_layout=True)\n"
     ]
    },
    {
     "name": "stdout",
     "output_type": "stream",
     "text": [
      "PDF saved to /adata/projects/autopi_inter/results/interneurons_decoding_angleAroundlever/sessions_model_plot/atLeverLight/100_shuffle/mn8578-05122021-0108_atLeverLight_100.pdf\n",
      "PDF saved to /adata/projects/autopi_inter/results/interneurons_decoding_angleAroundlever/sessions_model_plot/atLeverLight/100_shuffle/jp487-07022023-0108_atLeverLight_100.pdf\n",
      "PDF saved to /adata/projects/autopi_inter/results/interneurons_decoding_angleAroundlever/sessions_model_plot/atLeverLight/100_shuffle/jp451-24102022-0108_atLeverLight_100.pdf\n",
      "PDF saved to /adata/projects/autopi_inter/results/interneurons_decoding_angleAroundlever/sessions_model_plot/atLeverLight/100_shuffle/jp1084-13042022-0108_atLeverLight_100.pdf\n",
      "PDF already exists for jp499-26052023-0110. Skipping...\n",
      "PDF saved to /adata/projects/autopi_inter/results/interneurons_decoding_angleAroundlever/sessions_model_plot/atLeverLight/100_shuffle/mn8578-23122021-0108_atLeverLight_100.pdf\n",
      "PDF saved to /adata/projects/autopi_inter/results/interneurons_decoding_angleAroundlever/sessions_model_plot/atLeverLight/100_shuffle/jp486-25022023-0108_atLeverLight_100.pdf\n",
      "PDF already exists for jp486-20032023-0108. Skipping...\n",
      "PDF saved to /adata/projects/autopi_inter/results/interneurons_decoding_angleAroundlever/sessions_model_plot/atLeverLight/100_shuffle/mn8599-28012022-0107_atLeverLight_100.pdf\n",
      "PDF saved to /adata/projects/autopi_inter/results/interneurons_decoding_angleAroundlever/sessions_model_plot/atLeverLight/100_shuffle/mn8578-17122021-0107_atLeverLight_100.pdf\n",
      "PDF saved to /adata/projects/autopi_inter/results/interneurons_decoding_angleAroundlever/sessions_model_plot/atLeverLight/100_shuffle/mn8599-02022022-0107_atLeverLight_100.pdf\n",
      "PDF already exists for jp486-15032023-0108. Skipping...\n",
      "PDF saved to /adata/projects/autopi_inter/results/interneurons_decoding_angleAroundlever/sessions_model_plot/atLeverLight/100_shuffle/jp1684-13052022-0107_atLeverLight_100.pdf\n",
      "PDF already exists for jp486-01032023-0108. Skipping...\n",
      "PDF already exists for jp497-30042023-0108. Skipping...\n",
      "PDF saved to /adata/projects/autopi_inter/results/interneurons_decoding_angleAroundlever/sessions_model_plot/atLeverLight/100_shuffle/jp486-26022023-0108_atLeverLight_100.pdf\n",
      "PDF saved to /adata/projects/autopi_inter/results/interneurons_decoding_angleAroundlever/sessions_model_plot/atLeverLight/100_shuffle/jp1084-08042022-0107_atLeverLight_100.pdf\n",
      "PDF already exists for mn8599-20012022-0107. Skipping...\n",
      "PDF already exists for jp486-18032023-0108. Skipping...\n",
      "PDF saved to /adata/projects/autopi_inter/results/interneurons_decoding_angleAroundlever/sessions_model_plot/atLeverLight/100_shuffle/mn8599-27012022-0107_atLeverLight_100.pdf\n",
      "PDF already exists for jp452-09112022-0108. Skipping...\n",
      "PDF saved to /adata/projects/autopi_inter/results/interneurons_decoding_angleAroundlever/sessions_model_plot/atLeverLight/100_shuffle/jp3129-07062022-0107_atLeverLight_100.pdf\n",
      "PDF saved to /adata/projects/autopi_inter/results/interneurons_decoding_angleAroundlever/sessions_model_plot/atLeverLight/100_shuffle/mn8599-01022022-0108_atLeverLight_100.pdf\n",
      "PDF already exists for jp486-14032023-0108. Skipping...\n",
      "PDF already exists for jp486-07032023-0108. Skipping...\n",
      "PDF saved to /adata/projects/autopi_inter/results/interneurons_decoding_angleAroundlever/sessions_model_plot/atLeverLight/100_shuffle/jp3130-26052022-0107_atLeverLight_100.pdf\n",
      "PDF saved to /adata/projects/autopi_inter/results/interneurons_decoding_angleAroundlever/sessions_model_plot/atLeverLight/100_shuffle/mn8578-06122021-0107_atLeverLight_100.pdf\n",
      "PDF already exists for jp3129-03062022-0108. Skipping...\n",
      "PDF saved to /adata/projects/autopi_inter/results/interneurons_decoding_angleAroundlever/sessions_model_plot/atLeverLight/100_shuffle/jp1685-28042022-0108_atLeverLight_100.pdf\n",
      "PDF already exists for jp1686-22042022-0107. Skipping...\n",
      "PDF saved to /adata/projects/autopi_inter/results/interneurons_decoding_angleAroundlever/sessions_model_plot/atLeverLight/100_shuffle/mn8599-12022022-0107_atLeverLight_100.pdf\n",
      "PDF already exists for mn8578-15122021-0107. Skipping...\n",
      "PDF saved to /adata/projects/autopi_inter/results/interneurons_decoding_angleAroundlever/sessions_model_plot/atLeverLight/100_shuffle/jp1084-05042022-0107_atLeverLight_100.pdf\n",
      "PDF already exists for jp499-22052023-0108. Skipping...\n",
      "PDF saved to /adata/projects/autopi_inter/results/interneurons_decoding_angleAroundlever/sessions_model_plot/atLeverLight/100_shuffle/jp3120-17052022-0107_atLeverLight_100.pdf\n",
      "PDF already exists for jp486-03032023-0108. Skipping...\n",
      "PDF saved to /adata/projects/autopi_inter/results/interneurons_decoding_angleAroundlever/sessions_model_plot/atLeverLight/100_shuffle/mn8599-08022022-0107_atLeverLight_100.pdf\n",
      "PDF saved to /adata/projects/autopi_inter/results/interneurons_decoding_angleAroundlever/sessions_model_plot/atLeverLight/100_shuffle/jp452-19112022-0108_atLeverLight_100.pdf\n",
      "PDF saved to /adata/projects/autopi_inter/results/interneurons_decoding_angleAroundlever/sessions_model_plot/atLeverLight/100_shuffle/jp1684-14052022-0107_atLeverLight_100.pdf\n",
      "PDF saved to /adata/projects/autopi_inter/results/interneurons_decoding_angleAroundlever/sessions_model_plot/atLeverLight/100_shuffle/jp3269-30112022-0110_atLeverLight_100.pdf\n",
      "PDF already exists for jp486-13032023-0108. Skipping...\n",
      "PDF saved to /adata/projects/autopi_inter/results/interneurons_decoding_angleAroundlever/sessions_model_plot/atLeverLight/100_shuffle/jp3120-24052022-0108_atLeverLight_100.pdf\n",
      "PDF saved to /adata/projects/autopi_inter/results/interneurons_decoding_angleAroundlever/sessions_model_plot/atLeverLight/100_shuffle/jp486-26032023-0108_atLeverLight_100.pdf\n",
      "PDF saved to /adata/projects/autopi_inter/results/interneurons_decoding_angleAroundlever/sessions_model_plot/atLeverLight/100_shuffle/jp1084-14042022-0108_atLeverLight_100.pdf\n",
      "PDF saved to /adata/projects/autopi_inter/results/interneurons_decoding_angleAroundlever/sessions_model_plot/atLeverLight/100_shuffle/jp3130-27052022-0106_atLeverLight_100.pdf\n",
      "PDF already exists for jp1686-24042022-0107. Skipping...\n",
      "PDF already exists for jp452-08112022-0108. Skipping...\n",
      "PDF saved to /adata/projects/autopi_inter/results/interneurons_decoding_angleAroundlever/sessions_model_plot/atLeverLight/100_shuffle/jp1687-25052022-0107_atLeverLight_100.pdf\n",
      "PDF saved to /adata/projects/autopi_inter/results/interneurons_decoding_angleAroundlever/sessions_model_plot/atLeverLight/100_shuffle/mn8599-14022022-0106_atLeverLight_100.pdf\n",
      "PDF saved to /adata/projects/autopi_inter/results/interneurons_decoding_angleAroundlever/sessions_model_plot/atLeverLight/100_shuffle/jp1084-04042022-0107_atLeverLight_100.pdf\n",
      "PDF saved to /adata/projects/autopi_inter/results/interneurons_decoding_angleAroundlever/sessions_model_plot/atLeverLight/100_shuffle/jp1084-03042022-0107_atLeverLight_100.pdf\n",
      "PDF already exists for jp499-25052023-0108. Skipping...\n",
      "PDF saved to /adata/projects/autopi_inter/results/interneurons_decoding_angleAroundlever/sessions_model_plot/atLeverLight/100_shuffle/mn8578-10122021-0107_atLeverLight_100.pdf\n",
      "PDF saved to /adata/projects/autopi_inter/results/interneurons_decoding_angleAroundlever/sessions_model_plot/atLeverLight/100_shuffle/jp1685-29042022-0108_atLeverLight_100.pdf\n",
      "PDF saved to /adata/projects/autopi_inter/results/interneurons_decoding_angleAroundlever/sessions_model_plot/atLeverLight/100_shuffle/jp1685-24042022-0108_atLeverLight_100.pdf\n",
      "PDF saved to /adata/projects/autopi_inter/results/interneurons_decoding_angleAroundlever/sessions_model_plot/atLeverLight/100_shuffle/mn8599-15022022-0107_atLeverLight_100.pdf\n",
      "PDF already exists for jp452-18112022-0108. Skipping...\n",
      "PDF saved to /adata/projects/autopi_inter/results/interneurons_decoding_angleAroundlever/sessions_model_plot/atLeverLight/100_shuffle/jp451-21102022-0108_atLeverLight_100.pdf\n",
      "PDF already exists for jp486-22032023-0108. Skipping...\n",
      "PDF already exists for jp486-27032023-0110. Skipping...\n",
      "PDF saved to /adata/projects/autopi_inter/results/interneurons_decoding_angleAroundlever/sessions_model_plot/atLeverLight/100_shuffle/mn8599-03022022-0107_atLeverLight_100.pdf\n",
      "PDF already exists for mn8599-19012022-0107. Skipping...\n",
      "PDF saved to /adata/projects/autopi_inter/results/interneurons_decoding_angleAroundlever/sessions_model_plot/atLeverLight/100_shuffle/jp451-23102022-0108_atLeverLight_100.pdf\n"
     ]
    },
    {
     "data": {
      "text/plain": [
       "<Figure size 1080x540 with 0 Axes>"
      ]
     },
     "metadata": {},
     "output_type": "display_data"
    },
    {
     "data": {
      "text/plain": [
       "<Figure size 1080x540 with 0 Axes>"
      ]
     },
     "metadata": {},
     "output_type": "display_data"
    },
    {
     "data": {
      "text/plain": [
       "<Figure size 1080x540 with 0 Axes>"
      ]
     },
     "metadata": {},
     "output_type": "display_data"
    },
    {
     "data": {
      "text/plain": [
       "<Figure size 1080x540 with 0 Axes>"
      ]
     },
     "metadata": {},
     "output_type": "display_data"
    },
    {
     "data": {
      "text/plain": [
       "<Figure size 1080x540 with 0 Axes>"
      ]
     },
     "metadata": {},
     "output_type": "display_data"
    },
    {
     "data": {
      "text/plain": [
       "<Figure size 1080x540 with 0 Axes>"
      ]
     },
     "metadata": {},
     "output_type": "display_data"
    },
    {
     "data": {
      "text/plain": [
       "<Figure size 1080x540 with 0 Axes>"
      ]
     },
     "metadata": {},
     "output_type": "display_data"
    },
    {
     "data": {
      "text/plain": [
       "<Figure size 1080x540 with 0 Axes>"
      ]
     },
     "metadata": {},
     "output_type": "display_data"
    },
    {
     "data": {
      "text/plain": [
       "<Figure size 1080x540 with 0 Axes>"
      ]
     },
     "metadata": {},
     "output_type": "display_data"
    },
    {
     "data": {
      "text/plain": [
       "<Figure size 1080x540 with 0 Axes>"
      ]
     },
     "metadata": {},
     "output_type": "display_data"
    },
    {
     "data": {
      "text/plain": [
       "<Figure size 1080x540 with 0 Axes>"
      ]
     },
     "metadata": {},
     "output_type": "display_data"
    },
    {
     "data": {
      "text/plain": [
       "<Figure size 1080x540 with 0 Axes>"
      ]
     },
     "metadata": {},
     "output_type": "display_data"
    },
    {
     "data": {
      "text/plain": [
       "<Figure size 1080x540 with 0 Axes>"
      ]
     },
     "metadata": {},
     "output_type": "display_data"
    },
    {
     "data": {
      "text/plain": [
       "<Figure size 1080x540 with 0 Axes>"
      ]
     },
     "metadata": {},
     "output_type": "display_data"
    },
    {
     "data": {
      "text/plain": [
       "<Figure size 1080x540 with 0 Axes>"
      ]
     },
     "metadata": {},
     "output_type": "display_data"
    },
    {
     "data": {
      "text/plain": [
       "<Figure size 1080x540 with 0 Axes>"
      ]
     },
     "metadata": {},
     "output_type": "display_data"
    },
    {
     "data": {
      "text/plain": [
       "<Figure size 1080x540 with 0 Axes>"
      ]
     },
     "metadata": {},
     "output_type": "display_data"
    },
    {
     "data": {
      "text/plain": [
       "<Figure size 1080x540 with 0 Axes>"
      ]
     },
     "metadata": {},
     "output_type": "display_data"
    },
    {
     "data": {
      "text/plain": [
       "<Figure size 1080x540 with 0 Axes>"
      ]
     },
     "metadata": {},
     "output_type": "display_data"
    },
    {
     "data": {
      "text/plain": [
       "<Figure size 1080x540 with 0 Axes>"
      ]
     },
     "metadata": {},
     "output_type": "display_data"
    },
    {
     "data": {
      "text/plain": [
       "<Figure size 1080x540 with 0 Axes>"
      ]
     },
     "metadata": {},
     "output_type": "display_data"
    },
    {
     "data": {
      "text/plain": [
       "<Figure size 1080x540 with 0 Axes>"
      ]
     },
     "metadata": {},
     "output_type": "display_data"
    },
    {
     "data": {
      "text/plain": [
       "<Figure size 1080x540 with 0 Axes>"
      ]
     },
     "metadata": {},
     "output_type": "display_data"
    },
    {
     "data": {
      "text/plain": [
       "<Figure size 1080x540 with 0 Axes>"
      ]
     },
     "metadata": {},
     "output_type": "display_data"
    },
    {
     "data": {
      "text/plain": [
       "<Figure size 1080x540 with 0 Axes>"
      ]
     },
     "metadata": {},
     "output_type": "display_data"
    },
    {
     "data": {
      "text/plain": [
       "<Figure size 1080x540 with 0 Axes>"
      ]
     },
     "metadata": {},
     "output_type": "display_data"
    },
    {
     "data": {
      "text/plain": [
       "<Figure size 1080x540 with 0 Axes>"
      ]
     },
     "metadata": {},
     "output_type": "display_data"
    },
    {
     "data": {
      "text/plain": [
       "<Figure size 1080x540 with 0 Axes>"
      ]
     },
     "metadata": {},
     "output_type": "display_data"
    },
    {
     "data": {
      "text/plain": [
       "<Figure size 1080x540 with 0 Axes>"
      ]
     },
     "metadata": {},
     "output_type": "display_data"
    },
    {
     "data": {
      "text/plain": [
       "<Figure size 1080x540 with 0 Axes>"
      ]
     },
     "metadata": {},
     "output_type": "display_data"
    },
    {
     "data": {
      "text/plain": [
       "<Figure size 1080x540 with 0 Axes>"
      ]
     },
     "metadata": {},
     "output_type": "display_data"
    },
    {
     "data": {
      "text/plain": [
       "<Figure size 1080x540 with 0 Axes>"
      ]
     },
     "metadata": {},
     "output_type": "display_data"
    },
    {
     "data": {
      "text/plain": [
       "<Figure size 1080x540 with 0 Axes>"
      ]
     },
     "metadata": {},
     "output_type": "display_data"
    },
    {
     "data": {
      "text/plain": [
       "<Figure size 1080x540 with 0 Axes>"
      ]
     },
     "metadata": {},
     "output_type": "display_data"
    },
    {
     "data": {
      "text/plain": [
       "<Figure size 1080x540 with 0 Axes>"
      ]
     },
     "metadata": {},
     "output_type": "display_data"
    },
    {
     "data": {
      "text/plain": [
       "<Figure size 1080x540 with 0 Axes>"
      ]
     },
     "metadata": {},
     "output_type": "display_data"
    },
    {
     "data": {
      "text/plain": [
       "<Figure size 1080x540 with 0 Axes>"
      ]
     },
     "metadata": {},
     "output_type": "display_data"
    },
    {
     "data": {
      "text/plain": [
       "<Figure size 1080x540 with 0 Axes>"
      ]
     },
     "metadata": {},
     "output_type": "display_data"
    },
    {
     "data": {
      "text/plain": [
       "<Figure size 1080x540 with 0 Axes>"
      ]
     },
     "metadata": {},
     "output_type": "display_data"
    },
    {
     "data": {
      "text/plain": [
       "<Figure size 1080x540 with 0 Axes>"
      ]
     },
     "metadata": {},
     "output_type": "display_data"
    },
    {
     "data": {
      "text/plain": [
       "<Figure size 1080x540 with 0 Axes>"
      ]
     },
     "metadata": {},
     "output_type": "display_data"
    },
    {
     "data": {
      "text/plain": [
       "<Figure size 1080x540 with 0 Axes>"
      ]
     },
     "metadata": {},
     "output_type": "display_data"
    },
    {
     "data": {
      "text/plain": [
       "<Figure size 1080x540 with 0 Axes>"
      ]
     },
     "metadata": {},
     "output_type": "display_data"
    },
    {
     "data": {
      "text/plain": [
       "<Figure size 1080x540 with 0 Axes>"
      ]
     },
     "metadata": {},
     "output_type": "display_data"
    }
   ],
   "source": [
    "for i, (sesind, f) in enumerate(zip(SesIndxsL[:], light_files[:])): \n",
    "    sSes = sSessions[sesind]\n",
    "    ses = myProject.sessionList[sesind]\n",
    "\n",
    "    mymodel = allSessions_df[allSessions_df.session == sSes.name]\n",
    "    fn = directory + f\n",
    "    shuffle = pd.read_pickle(fn)\n",
    "\n",
    "    col = 4\n",
    "    row = 2\n",
    "    sizePerRow, sizePerCol = 2.7, 2.7\n",
    "    fig = plt.figure(figsize=(col * sizePerCol, row * sizePerRow), constrained_layout=True)\n",
    "    gs = gridspec.GridSpec(row, col, figure=fig, wspace=0)\n",
    "\n",
    "    # Directory to save the PDF files\n",
    "    output_dir = \"/adata/projects/autopi_inter/results/interneurons_decoding_angleAroundlever/sessions_model_plot/atLeverLight/100_shuffle/\"\n",
    "    os.makedirs(output_dir, exist_ok=True)  # Ensure the directory exists\n",
    "\n",
    "    # Initialize the PDF file\n",
    "    pdf_file_name = f\"{sSes.name}_atLeverLight_100.pdf\"\n",
    "    pdf_file_path = os.path.join(output_dir, pdf_file_name)\n",
    "\n",
    "    # Check if the PDF file already exists\n",
    "    if os.path.exists(pdf_file_path):\n",
    "        print(f\"PDF already exists for {sSes.name}. Skipping...\")\n",
    "        continue\n",
    "\n",
    "    with PdfPages(pdf_file_path) as pdf:\n",
    "        # Call your plotting function\n",
    "        plot_summary_model_one_session(\n",
    "            gs, \n",
    "            sSes.name, \n",
    "            mymodel.df.iloc[0], \n",
    "            mymodel.Angle_test.iloc[0], \n",
    "            mymodel.Angle_test_pred.iloc[0], \n",
    "            mymodel.Angle_train.iloc[0], \n",
    "            mymodel.Angle_train_pred.iloc[0], \n",
    "            shuffle, \n",
    "            n_epochs=100, \n",
    "            iteration=500\n",
    "        )\n",
    "        # Add the current figure to the PDF\n",
    "        pdf.savefig(fig)\n",
    "        plt.close(fig)  # Close the figure to free up memory\n",
    "\n",
    "    print(f\"PDF saved to {pdf_file_path}\")\n"
   ]
  },
  {
   "cell_type": "markdown",
   "id": "1dd6bf88-f173-415a-a167-4b8f203fa752",
   "metadata": {},
   "source": [
    "merge all the pdf files so we have a single pdf to compare everything : \n"
   ]
  },
  {
   "cell_type": "code",
   "execution_count": 339,
   "id": "95fc995b-271c-4cf4-a987-0012f26f67da",
   "metadata": {},
   "outputs": [
    {
     "name": "stdout",
     "output_type": "stream",
     "text": [
      "Total pages in merged PDF: 132\n"
     ]
    }
   ],
   "source": [
    "from PyPDF2 import PdfMerger\n",
    "directory= '/adata/projects/autopi_inter/results/interneurons_decoding_angleAroundlever/sessions_model_plot/atLeverLight/100_shuffle/'\n",
    "output_file = \"/adata/projects/autopi_inter/results/interneurons_decoding_angleAroundlever/sessions_model_plot/atLeverLight/100_shuffle/allSessions_100_atLeverLight.pdf\"\n",
    "\n",
    "# Initialize the PdfMerger\n",
    "merger = PdfMerger()\n",
    "\n",
    "# Find all PDF files in the directory\n",
    "pdf_files = [f for f in os.listdir(directory) if f.endswith('.pdf')]\n",
    "pdf_files.sort()  # Sort files alphabetically (optional)\n",
    "\n",
    "# Loop through and append each PDF to the merger\n",
    "for pdf in pdf_files:\n",
    "    file_path = os.path.join(directory, pdf)\n",
    "    merger.append(file_path)\n",
    "\n",
    "# Write the merged PDF to disk\n",
    "merger.write(output_file)\n",
    "merger.close()\n",
    "\n",
    "from PyPDF2 import PdfReader\n",
    "reader = PdfReader(output_file)\n",
    "print(f\"Total pages in merged PDF: {len(reader.pages)}\")"
   ]
  },
  {
   "cell_type": "code",
   "execution_count": null,
   "id": "803fbc91-241d-4090-9f4a-8030e002c33c",
   "metadata": {},
   "outputs": [],
   "source": []
  },
  {
   "cell_type": "code",
   "execution_count": null,
   "id": "c314e3d0-f24a-4a83-b68a-85cb2c7df2ab",
   "metadata": {},
   "outputs": [],
   "source": []
  },
  {
   "cell_type": "code",
   "execution_count": null,
   "id": "7e4f0b75-8b62-4be5-ae70-1c22931ed849",
   "metadata": {},
   "outputs": [],
   "source": []
  },
  {
   "cell_type": "code",
   "execution_count": null,
   "id": "8229c5f1-e0fa-4297-9ba6-884630c7ac14",
   "metadata": {},
   "outputs": [],
   "source": []
  },
  {
   "cell_type": "code",
   "execution_count": null,
   "id": "8c8e7348-d95a-40f8-883d-7b6a48d376d3",
   "metadata": {},
   "outputs": [],
   "source": []
  }
 ],
 "metadata": {
  "kernelspec": {
   "display_name": "DEEPLABCUT",
   "language": "python",
   "name": "deeplabcut"
  },
  "language_info": {
   "codemirror_mode": {
    "name": "ipython",
    "version": 3
   },
   "file_extension": ".py",
   "mimetype": "text/x-python",
   "name": "python",
   "nbconvert_exporter": "python",
   "pygments_lexer": "ipython3",
   "version": "3.8.13"
  },
  "widgets": {
   "application/vnd.jupyter.widget-state+json": {
    "state": {},
    "version_major": 2,
    "version_minor": 0
   }
  }
 },
 "nbformat": 4,
 "nbformat_minor": 5
}
