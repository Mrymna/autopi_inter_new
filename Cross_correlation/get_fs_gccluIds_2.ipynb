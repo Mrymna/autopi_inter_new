{
 "cells": [
  {
   "cell_type": "markdown",
   "id": "e7639abe-25b0-4f46-a9bf-4404889d6d3a",
   "metadata": {},
   "source": [
    "## Get maps ifr_stackatLever for all the cells and save them \n",
    "\n",
    "\n",
    "+ We get the stacked and save them here using a summary of this jupyter notebook : http://localhost:8888/lab/tree/repo/autopi_inter/lever_press/TrialMatrix_leverPress_Pascal_8.ipynb\n",
    "+ we get the maps and spike_time cross corelations using some part of the code in this : http://localhost:8888/lab/tree/repo/autopi_inter/Cross_correlation/Get_crossCorr_RF.ipynb\n",
    "\n"
   ]
  },
  {
   "cell_type": "code",
   "execution_count": 1,
   "id": "0d676158-abba-4e2d-b5f2-6a5b69bc3c65",
   "metadata": {},
   "outputs": [
    {
     "name": "stdout",
     "output_type": "stream",
     "text": [
      "creating myProject, an autopipy.project object\n",
      "Project name: autopi_inter\n",
      "dataPath: /adata/projects/autopi_inter/\n",
      "dlcModelPath: /adata/models\n",
      "Reading /adata/projects/autopi_inter//sessionList\n",
      "We have 180 testing sessions in the list\n",
      "spikeA.Kilosort_session objects are in sSessions\n"
     ]
    }
   ],
   "source": [
    "%load_ext autoreload\n",
    "%autoreload 2\n",
    "%matplotlib inline\n",
    "%run ../setup_project.py\n",
    "%run ../neuronAutopi.py\n",
    "\n",
    "%run ../generic_plot_functions.py\n",
    "import os.path\n",
    "from spikeA.Dat_file_reader import Dat_file_reader\n",
    "from scipy.signal import welch\n",
    "from scipy.ndimage import gaussian_filter1d\n",
    "import numpy as np\n",
    "from scipy.signal import find_peaks, peak_widths, peak_prominences\n",
    "from scipy import integrate\n",
    "from scipy.ndimage import gaussian_filter1d \n",
    "import os\n",
    "from itertools import product\n",
    "from scipy.stats import pearsonr\n",
    "from scipy import signal\n",
    "\n",
    "projectName, dataPath, dlcModelPath, myProject, sSessions = setup_project_session_lists(projectName=\"autopi_inter\",\n",
    "                                                                dataPath=\"/adata/projects/autopi_inter/\",dlcModelPath=\"/adata/models\")\n"
   ]
  },
  {
   "cell_type": "code",
   "execution_count": 11,
   "id": "99fe89b5-a819-407e-9155-a6d3cdb29937",
   "metadata": {},
   "outputs": [
    {
     "name": "stdout",
     "output_type": "stream",
     "text": [
      "Loading Animal_pose and Spike_train, sSes.ap and sSes.cg\n",
      "Will load .pose.npy\n"
     ]
    },
    {
     "name": "stderr",
     "output_type": "stream",
     "text": [
      "100%|███████████████████████████████████████████| 16/16 [00:08<00:00,  1.89it/s]"
     ]
    },
    {
     "name": "stdout",
     "output_type": "stream",
     "text": [
      "Loading ses.trial_table_simple as ses.trials\n",
      "Create condition intervals in ses.intervalDict\n"
     ]
    },
    {
     "name": "stderr",
     "output_type": "stream",
     "text": [
      "\n"
     ]
    }
   ],
   "source": [
    "prepareSessionsForSpatialAnalysisProject(sSessions[:16],myProject.sessionList[:16]) ### sSeslist >>>> sSessions"
   ]
  },
  {
   "cell_type": "code",
   "execution_count": 12,
   "id": "2d38cfe2-3229-480a-a44f-6dda60e026b3",
   "metadata": {},
   "outputs": [
    {
     "name": "stderr",
     "output_type": "stream",
     "text": [
      "16it [00:00, 40.65it/s]\n"
     ]
    }
   ],
   "source": [
    "for ses, sSes in tqdm(zip(myProject.sessionList[:16],sSessions[:16])):\n",
    "    getSearchHomingIntervals(ses,sSes)"
   ]
  },
  {
   "cell_type": "code",
   "execution_count": null,
   "id": "4b436a33-ca40-4905-a7a0-a53efd958206",
   "metadata": {},
   "outputs": [],
   "source": []
  },
  {
   "cell_type": "code",
   "execution_count": 13,
   "id": "625ed5e5-23e2-4347-877b-842951a86781",
   "metadata": {},
   "outputs": [
    {
     "name": "stdout",
     "output_type": "stream",
     "text": [
      "loading /adata/projects/autopi_inter//results/cells_with_leverCells.csv\n",
      "loading behavior_180_v2.csv\n",
      "CPU times: user 109 ms, sys: 42 µs, total: 109 ms\n",
      "Wall time: 108 ms\n"
     ]
    },
    {
     "data": {
      "text/plain": [
       "((121,), 121)"
      ]
     },
     "execution_count": 13,
     "metadata": {},
     "output_type": "execute_result"
    }
   ],
   "source": [
    "%%time\n",
    "fn=myProject.dataPath+\"/results/cells_with_leverCells.csv\"\n",
    "print('loading', fn)\n",
    "cells = pd.read_csv(fn)\n",
    "\n",
    "## load the levertime press \n",
    "fn ='behavior_180_v2.csv'\n",
    "print('loading', fn)\n",
    "res = pd.read_csv(fn)\n",
    "\n",
    "LeverPressinRestime= res[res.sessionName== sSes.name].levertimeRes.values\n",
    "LeverPressinRestime.shape, len(ses.trials)\n"
   ]
  },
  {
   "cell_type": "code",
   "execution_count": 14,
   "id": "9c19ccee-95d8-4859-a2b9-bc30891490f3",
   "metadata": {},
   "outputs": [],
   "source": [
    "def samples2time(l):\n",
    "    return bin_size_sec*(np.arange(l)-l/2+.5)\n",
    "\n",
    "def get_sSesId_nId(cellId):\n",
    "    \n",
    "    sesName= cellId.split('_')[0]\n",
    "    cellName= cellId.split('_')[1]\n",
    "    sesid= [sSes.name for sSes in sSessions].index(sesName)\n",
    "    sSes= sSessions[sesid]\n",
    "    ses= myProject.sessionList[sesid]\n",
    "    nid= [n.name for n in sSes.cg.neuron_list].index(cellName)\n",
    "    n= sSes.cg.neuron_list[nid]\n",
    "    return sSes,ses,n, nid \n",
    "\n",
    "def get_stacked_ifr_all_cropped(sSes,ses):\n",
    "    session_trials = res[(res.sessionName == sSes.name) & (res.valid==True)].sort_values(by='trialNo')\n",
    "    LeverPressinRestime = session_trials.levertimeRes.values\n",
    "    \n",
    "    atLever_times = np.concatenate([ses.intervalDict['atLever_light'], ses.intervalDict['atLever_dark']])\n",
    "    \n",
    "    \n",
    "    \n",
    "    trial_lever_times = []\n",
    "    # loop through trials in the same order as trial dataframe \"session_trials\"\n",
    "    for i,LeverPress in enumerate(LeverPressinRestime):\n",
    "        # find atLever time interval for given trial\n",
    "        found = False\n",
    "        for (start,end) in atLever_times:\n",
    "            if start <= LeverPress <= end:\n",
    "                found = True\n",
    "                break\n",
    "        if not found:\n",
    "            # raise IOError(\"not found\")\n",
    "            continue\n",
    "        if found:\n",
    "            #print(\"trial\",i,\"LeverPress\",LeverPress,\"occurs within\",start,end) # keep the index of trial so we can reference in case one is not found\n",
    "            trial_lever_times.append({'trial_id': i, 'start': start, 'end': end, 'LeverPress': LeverPress})\n",
    "            \n",
    "            \n",
    "            \n",
    "    atLeverIFR_trials = [] # number of trials * number of cells * time\n",
    "\n",
    "    for t in trial_lever_times:\n",
    "        start,end = t['start'],t['end']\n",
    "\n",
    "        # IFR around lever for each trial\n",
    "        atLeverifr = [] # number of cells * time\n",
    "\n",
    "        for n in sSes.cg.neuron_list:\n",
    "            n.spike_train.set_intervals(np.array([start,end]))\n",
    "            n.spike_train.instantaneous_firing_rate(bin_size_sec=bin_size_sec, sigma=sigma, time_start=start, time_end=end, outside_interval_solution=\"remove\")\n",
    "            n.spike_train.ifr[0][n.spike_train.ifr[0] > 80] = 0\n",
    "            atLeverifr.append(n.spike_train.ifr[0])\n",
    "        atLeverifr = np.array(atLeverifr) # number of cells * trial duration\n",
    "        atLeverIFR_trials.append(atLeverifr)\n",
    "        \n",
    "        \n",
    "    # get time before and after leverpress for aligned stack\n",
    "    dt=[]\n",
    "    for t in trial_lever_times:\n",
    "        start,end,leverpress = t['start'],t['end'],t['LeverPress']\n",
    "        dt.append(max(leverpress-start, end-leverpress))\n",
    "    maxtime = np.max(dt)\n",
    "    \n",
    "    time_samples = int(np.ceil(maxtime/bin_size_sec)) # before and after lever press\n",
    "\n",
    "\n",
    "    # stack : trials * time * cells\n",
    "    # time aligning is by trial\n",
    "\n",
    "    ncells = len(sSes.cg.neuron_list)\n",
    "    ntrials = len(trial_lever_times)\n",
    "    stackedifr_cells = np.zeros((ntrials, ncells, time_samples*2))\n",
    "    stackedifr_cells[:] = np.nan # pad empty space with nan\n",
    "\n",
    "    for i, (atLeverifr, t) in enumerate(zip(atLeverIFR_trials, trial_lever_times)):\n",
    "        # print('trial',i,t,'/',\"IFR shape:\",atLeverifr.shape)\n",
    "        # align trials\n",
    "        start,end,leverpress = t['start'],t['end'],t['LeverPress']\n",
    "        left_pad_samples = time_samples - int(np.ceil((leverpress-start)/bin_size_sec)) # how many nans to add before start (for this trial, all cells), so that lever press is centered\n",
    "        stackedifr_cells[i,:,left_pad_samples:left_pad_samples+atLeverifr.shape[1]] = atLeverifr\n",
    "\n",
    "    trial_ids = np.array([t['trial_id'] for t in trial_lever_times])\n",
    "    # mask for light or dark\n",
    "    trial_light = (session_trials.light == 'light').values\n",
    "    trial_light_onids = trial_light[trial_ids]\n",
    "\n",
    "    trials_light_ids = np.where(trial_light_onids)[0]\n",
    "    trials_dark_ids = np.where(~trial_light_onids)[0]\n",
    "    \n",
    "    ###############\n",
    "    #### Crop the stack 0.5 second before and after the leverPress to remove Nans \n",
    "    ##############\n",
    "    time = samples2time(time_samples*2)\n",
    "\n",
    "    # crop\n",
    "    samples_to_keep = 50 #100\n",
    "    indx0,indx1 = len(time)//2-samples_to_keep//2, len(time)//2+samples_to_keep//2\n",
    "    time_scaled = time[indx0:indx1]\n",
    "    stackedifr_cells = stackedifr_cells[:,:,indx0:indx1]\n",
    "    #time, stackedifr_cells.shape\n",
    "\n",
    "    #return stackedifr_cells, trials_light_ids, trials_dark_ids, time, time_scaled \n",
    "    return stackedifr_cells, trials_light_ids, trials_dark_ids, time_scaled \n",
    "\n",
    "def clean_stack(stack):\n",
    "        return stack[~np.isnan(stack).any(axis=1)]\n",
    "    \n",
    "def plot_stackedifr_oneCell(gs, stackedifr_cells, cindx, trials_light_ids, trials_dark_ids, legend=True, bbox_to_anchor=(1.35, 1), nonan=True):\n",
    "        \n",
    "    # For light trials\n",
    "    ax = fig.add_subplot(gs[0])\n",
    "    stackedifr_light = stackedifr_cells[trials_light_ids, cindx, :]\n",
    "    if nonan:\n",
    "        stackedifr_light = clean_stack(stackedifr_light)\n",
    "        cat = ax.pcolor(stackedifr_light)\n",
    "        ax.set_title(f\"nid:{cindx} -{'light'}\\n{'remove Nans'}\", fontsize=9)\n",
    "    else: \n",
    "        cat = ax.pcolor(stackedifr_light)\n",
    "        ax.set_title(f\"nid:{cindx} -{'light'}\", fontsize=9)\n",
    "    \n",
    "    # Modify the x-axis\n",
    "    xticks_positions = [0, stackedifr_light.shape[1] // 2, stackedifr_light.shape[1] - 1]\n",
    "    ax.set_xticks(xticks_positions)\n",
    "    ax.set_xticklabels([-0.5, 0, 0.5])\n",
    "    ax.set_xlabel(\"time relative \\n to lever press [s]\")\n",
    "    ax.set_ylabel(\"Trials\")\n",
    "\n",
    "    # Add red vertical dashed line at 0\n",
    "    ax.axvline(xticks_positions[1], color='red', linestyle='--', label=\"at lever press\")\n",
    "    fig.colorbar(cat, ax=ax)\n",
    "\n",
    "    # For dark trials\n",
    "    ax = fig.add_subplot(gs[1])\n",
    "    stackedifr_dark = stackedifr_cells[trials_dark_ids, cindx, :]\n",
    "    if nonan:\n",
    "        stackedifr_dark = clean_stack(stackedifr_dark)\n",
    "        cat = ax.pcolor(stackedifr_dark)\n",
    "        ax.set_title(f\"nid:{cindx} -{'dark'}\\n{'remove Nans'}\", fontsize=9)\n",
    "    else: \n",
    "        cat = ax.pcolor(stackedifr_dark)\n",
    "        ax.set_title(f\"nid:{cindx} -{'dark'}\", fontsize=9)\n",
    "    \n",
    "    xticks_positions = [0, stackedifr_dark.shape[1] // 2, stackedifr_dark.shape[1] - 1]\n",
    "    ax.set_xticks(xticks_positions)\n",
    "    ax.set_xticklabels([-0.5, 0, 0.5])\n",
    "    ax.set_xlabel(\"time relative \\n to lever press [s]\")\n",
    "    ax.set_ylabel(\"Trials\")\n",
    "\n",
    "    # Add red vertical dashed line at 0\n",
    "    ax.axvline(xticks_positions[1], color='red', linestyle='--', label=\"leverPress\")\n",
    "    fig.colorbar(cat, ax=ax)\n",
    "    \n",
    "    if legend:\n",
    "        ax.legend(loc='upper center', bbox_to_anchor=bbox_to_anchor)"
   ]
  },
  {
   "cell_type": "code",
   "execution_count": null,
   "id": "7d5be04a-2e8b-4334-b19a-fa9406037cc4",
   "metadata": {},
   "outputs": [],
   "source": []
  },
  {
   "cell_type": "markdown",
   "id": "6564ef40-5469-4ba5-88c9-31dcde81b18d",
   "metadata": {},
   "source": [
    "Now get the expected values"
   ]
  },
  {
   "cell_type": "code",
   "execution_count": 15,
   "id": "c796b9b8-0aba-41c8-b3d5-6c3f51a2b215",
   "metadata": {},
   "outputs": [],
   "source": [
    "def expected_value(v, w):\n",
    "    indxs = np.isfinite(v) & np.isfinite(w)  # Ensure both v and w are finite\n",
    "    if np.sum(w[indxs]) == 0:  # Check if weights sum to zero\n",
    "        return np.nan  # Return NaN or some default value to indicate the issue\n",
    "    return np.average(v[indxs], weights=w[indxs])  # Proceed if weights are valid\n",
    "\n",
    "def plot_expected_value(ax, stackedifr_cells,trials_light_ids,cindx,time_scaled, light= 'light',  bbox_to_anchor= (1.45,1), legend= False):\n",
    "    \n",
    "    #ax= fig.add_subplot(gs[0])\n",
    "    ifrstack= stackedifr_cells[trials_light_ids,cindx,:]\n",
    "    s0 = np.nanmean(ifrstack, axis=(0)) # axis: trials * 1 neuron\n",
    "    t_mean = expected_value(time_scaled,s0) ## averaged expected_value \n",
    "    print(t_mean)\n",
    "    l = ax.plot(time_scaled,s0)\n",
    "    ax.axvline(t_mean, c='green', lw=1.5, label=\"Expval\")\n",
    "    ax.axvline(0,linestyle='--', c='red', lw=1.0, label=\"leverPress\")\n",
    "    ax.spines['top'].set_visible(False)\n",
    "    ax.spines['right'].set_visible(False)\n",
    "    ax.set_xlabel(\"relative time to \\n lever press [s]\")\n",
    "    ax.set_ylabel(\"sum of firing rate [Hz] \\n  of all trials\")\n",
    "    ax.set_title(f\"{light} \\n exp_val:{t_mean:.3f} \" , fontsize= 9)\n",
    "    if legend: \n",
    "        ax.legend(loc='center', bbox_to_anchor=bbox_to_anchor)\n",
    "\n",
    "def plot_expValues_oneCell(gs, stackedifr_cells, trials_light_ids, trials_dark_ids, time_scaled,bbox_to_anchor= (1.45,1),  legend= False):\n",
    "\n",
    "    for i, (l,light_inx) in enumerate(zip(['light', 'dark'], [trials_light_ids, trials_dark_ids])):\n",
    "        ax= fig.add_subplot(gs[i])\n",
    "        plot_expected_value(ax, stackedifr_cells,light_inx,cindx,time_scaled, light= l,bbox_to_anchor= bbox_to_anchor, legend= legend)"
   ]
  },
  {
   "cell_type": "code",
   "execution_count": 16,
   "id": "3bf0818f-f7b5-44c4-a63d-3d6088ca7c6d",
   "metadata": {},
   "outputs": [],
   "source": [
    "bin_size_sec = 0.02\n",
    "sigma=1\n",
    "\n",
    "ses= myProject.sessionList[15]\n",
    "sSes= sSessions[15]"
   ]
  },
  {
   "cell_type": "code",
   "execution_count": 17,
   "id": "4496cf2a-cb3e-4f17-beb7-7c7079141553",
   "metadata": {},
   "outputs": [],
   "source": [
    "stackedifr_cells, trials_light_ids, trials_dark_ids, time_scaled = get_stacked_ifr_all_cropped(sSes,ses)"
   ]
  },
  {
   "cell_type": "code",
   "execution_count": 18,
   "id": "53f9c7e1-d272-4705-ba2e-c53ca3194e99",
   "metadata": {},
   "outputs": [
    {
     "name": "stdout",
     "output_type": "stream",
     "text": [
      "0.019180505404830524\n",
      "0.022968904402051977\n"
     ]
    },
    {
     "data": {
      "image/png": "[encoded data removed]",
      "text/plain": [
       "<Figure size 1000x500 with 6 Axes>"
      ]
     },
     "metadata": {},
     "output_type": "display_data"
    }
   ],
   "source": [
    "col=4\n",
    "row=2\n",
    "sizePerRow, sizePerCol = 2.5,2.5\n",
    "fig = plt.figure(figsize=(col*sizePerCol,row*sizePerRow),constrained_layout=True) \n",
    "gs = gridspec.GridSpec(row,col, figure=fig, wspace= 0.8) # all our figure\n",
    "\n",
    "cindx= 0\n",
    "\n",
    "gs0= gridspec.GridSpecFromSubplotSpec(1, 2, subplot_spec=gs[0,:2])#, width_ratios=[1.5,2,1,1])\n",
    "plot_stackedifr_oneCell(gs0, stackedifr_cells,cindx,trials_light_ids,trials_dark_ids, legend= False, bbox_to_anchor= (1.45,1), nonan=False)\n",
    "\n",
    "gs1= gridspec.GridSpecFromSubplotSpec(1, 2, subplot_spec=gs[1,:2])#, width_ratios=[1.5,2,1,1])\n",
    "plot_expValues_oneCell(gs1, stackedifr_cells, trials_light_ids, trials_dark_ids, time_scaled,bbox_to_anchor= (1.45,1),  legend= False)\n"
   ]
  },
  {
   "cell_type": "code",
   "execution_count": null,
   "id": "a68a9726-c152-4f28-b383-1d60ce920c77",
   "metadata": {},
   "outputs": [],
   "source": []
  },
  {
   "cell_type": "markdown",
   "id": "d9dca3b5-58b0-4d83-abf6-ac53da1564f4",
   "metadata": {},
   "source": [
    "## Run the function for all sessions "
   ]
  },
  {
   "cell_type": "code",
   "execution_count": null,
   "id": "bcf09058-7917-4a29-9d54-38c33178ba43",
   "metadata": {},
   "outputs": [],
   "source": [
    "get_stacked_ifr_all_sessions = [get_stacked_ifr_all_cropped(sSes,ses) for sSes,ses in tqdm(zip(sSessions,myProject.sessionList))]"
   ]
  },
  {
   "cell_type": "code",
   "execution_count": 40,
   "id": "173c222f-8fe3-4773-8ec4-a5edfa9b71dc",
   "metadata": {},
   "outputs": [
    {
     "data": {
      "text/plain": [
       "(180, tuple, (85, 25, 50), 4)"
      ]
     },
     "execution_count": 40,
     "metadata": {},
     "output_type": "execute_result"
    }
   ],
   "source": [
    "len(get_stacked_ifr_all_sessions), type(get_stacked_ifr_all_sessions[0]), get_stacked_ifr_all_sessions[0][0].shape, len(get_stacked_ifr_all_sessions[0])"
   ]
  },
  {
   "cell_type": "code",
   "execution_count": 28,
   "id": "40d59ef7-aae2-4134-be1e-f338c278adde",
   "metadata": {},
   "outputs": [
    {
     "data": {
      "text/plain": [
       "'/adata/projects/autopi_inter/results/leverPress/stacked_ifr_all_sessions.pkl'"
      ]
     },
     "execution_count": 28,
     "metadata": {},
     "output_type": "execute_result"
    }
   ],
   "source": [
    "fn"
   ]
  },
  {
   "cell_type": "code",
   "execution_count": 30,
   "id": "7e862863-0117-4b8a-9a94-2c46dadf34cb",
   "metadata": {},
   "outputs": [],
   "source": [
    "## save the ifr_stack for all the sessions so I dont have to run this again \n",
    "fn= myProject.dataPath+ 'results/leverPress/stacked_ifr_all_sessions.pkl'\n",
    "# Save to a file\n",
    "with open(fn, 'wb') as f:\n",
    "    print('saving: ')\n",
    "    pickle.dump(get_stacked_ifr_all_sessions, f)"
   ]
  },
  {
   "cell_type": "code",
   "execution_count": 20,
   "id": "5c1c7b78-b30c-4bbb-bb4e-49ec2eb46ed1",
   "metadata": {},
   "outputs": [],
   "source": [
    "# To load the list back from the file\n",
    "fn= myProject.dataPath+ 'results/leverPress/stacked_ifr_all_sessions.pkl'\n",
    "\n",
    "with open(fn, 'rb') as f:\n",
    "    stacked_ifr_all_sessions = pickle.load(f)"
   ]
  },
  {
   "cell_type": "code",
   "execution_count": 29,
   "id": "b57580e9-8aac-4596-a863-536f476e81fb",
   "metadata": {},
   "outputs": [
    {
     "data": {
      "text/plain": [
       "(180, 4)"
      ]
     },
     "execution_count": 29,
     "metadata": {},
     "output_type": "execute_result"
    }
   ],
   "source": [
    "len(stacked_ifr_all_sessions), len(stacked_ifr_all_sessions[0])"
   ]
  },
  {
   "cell_type": "markdown",
   "id": "bde4a7fe-3229-4305-84d7-f5666407ea95",
   "metadata": {},
   "source": [
    "Calculate the Expval for all the fs and gc for each session \n",
    "\n",
    "+ then we wanna select the cells that have the expval around zero \n",
    "+ then we wanna plot their map and see in the lever_map do they have "
   ]
  },
  {
   "cell_type": "code",
   "execution_count": 72,
   "id": "6fcecb0f-84f8-41c8-8809-d1befdbb210b",
   "metadata": {},
   "outputs": [],
   "source": [
    "def get_expval_fsandgc( sSes, stack):\n",
    "\n",
    "    results_dict = {'fs': [], 'gc': []}\n",
    "    stackedifr_cells, trials_light_ids, trials_dark_ids, time_scaled = stack[0], stack[1], stack[2], stack[3]\n",
    "\n",
    "    session_cells = cells[(cells.session == sSes.name)]\n",
    "    gc_indx = session_cells.gridCell_FIRST.values\n",
    "    fsin_indx = ((session_cells.interneuron) & (session_cells.mrate_RF1 > 10)).values\n",
    "\n",
    "    fs_cluIds = list(session_cells[(session_cells.interneuron) & (session_cells.mrate_RF1> 10)].cluId)\n",
    "    gc_cluIds= list(session_cells[(session_cells.gridCell_FIRST) & (~session_cells.cluId.isin(fs_cluIds))].cluId)\n",
    "\n",
    "    light_conditions = [trials_light_ids, trials_dark_ids]\n",
    "    light_conditions_str = ['light', 'dark']\n",
    "    neuron_fr_max = np.nanmax(stackedifr_cells, axis=(0, 2))\n",
    "\n",
    "    with np.errstate(invalid='ignore'):\n",
    "        stackedifr_cells_normalized = (stackedifr_cells.transpose((0, 2, 1)) / neuron_fr_max).transpose(0, 2, 1)\n",
    "\n",
    "    for light_condition, light_condition_str in zip(light_conditions, light_conditions_str):\n",
    "        if fsin_indx is not None and len(fsin_indx) > 0:\n",
    "        #if len(fsin_indx) > 0:\n",
    "                #print(len(fsin_indx))\n",
    "                for fs, fs_cluId in zip (np.where(fsin_indx)[0], fs_cluIds):\n",
    "                    #print(fs,fs_cluId)\n",
    "                    ifrstack= stackedifr_cells[light_condition,fs,:]\n",
    "                    s0 = np.nanmean(ifrstack, axis=(0)) # axis: trials * 1 neuron\n",
    "                    t_mean = expected_value(time_scaled,s0)\n",
    "                    # Store results in the dictionary\n",
    "                    results_dict['fs'].append({\n",
    "                        'expval': t_mean,\n",
    "                        'cluId': fs_cluId,\n",
    "                        'light': light_condition_str,\n",
    "                        'session': sSes.name\n",
    "                    })\n",
    "        else: \n",
    "            results_dict['fs'].append({\n",
    "                    'expval': np.nan,\n",
    "                    'cluId': np.nan,\n",
    "                    'light': light_condition_str,\n",
    "                    'session': sSes.name})\n",
    "\n",
    "        if gc_indx is not None and len(gc_indx) > 0:\n",
    "                for gc, gc_cluId in zip (np.where(gc_indx)[0], gc_cluIds):\n",
    "                    #print(gc,gc_cluId)\n",
    "                    ifrstack= stackedifr_cells[light_condition,gc,:]\n",
    "                    s0 = np.nanmean(ifrstack, axis=(0)) # axis: trials * 1 neuron\n",
    "                    t_mean = expected_value(time_scaled,s0)\n",
    "                    # Store results in the dictionary\n",
    "                    results_dict['gc'].append({\n",
    "                        'expval': t_mean,\n",
    "                        'cluId': gc_cluId,\n",
    "                        'light': light_condition_str,\n",
    "                        'session': sSes.name\n",
    "                    })\n",
    "        else: \n",
    "            results_dict['gc'].append({\n",
    "                    'expval': np.nan,\n",
    "                    'cluId': np.nan,\n",
    "                    'light': light_condition_str,\n",
    "                    'session': sSes.name})\n",
    "        \n",
    "    return results_dict"
   ]
  },
  {
   "cell_type": "code",
   "execution_count": 73,
   "id": "598eec7e-72cf-43c4-958d-c83b425ff0bc",
   "metadata": {},
   "outputs": [],
   "source": [
    "stack = stacked_ifr_all_sessions[0]\n",
    "sSes= sSessions[0]\n",
    "results_dict= get_expval_fsandgc(sSes, stack)"
   ]
  },
  {
   "cell_type": "code",
   "execution_count": 74,
   "id": "c162ead6-bb50-4005-9075-7736475836a6",
   "metadata": {},
   "outputs": [
    {
     "data": {
      "text/plain": [
       "(0, 0)"
      ]
     },
     "execution_count": 74,
     "metadata": {},
     "output_type": "execute_result"
    }
   ],
   "source": [
    "len(results_dict['fs']), len(results_dict['gc'])"
   ]
  },
  {
   "cell_type": "code",
   "execution_count": 75,
   "id": "d84412d8-71b4-40cd-911b-a7a0b1fee7e1",
   "metadata": {},
   "outputs": [
    {
     "name": "stderr",
     "output_type": "stream",
     "text": [
      "180it [00:00, 315.76it/s]\n"
     ]
    }
   ],
   "source": [
    "data=[]\n",
    "for sSes, stack in tqdm(zip(sSessions, stacked_ifr_all_sessions)):\n",
    "\n",
    "    res= get_expval_fsandgc(sSes, stack)\n",
    "    data.append(res)"
   ]
  },
  {
   "cell_type": "code",
   "execution_count": 94,
   "id": "9c93f43c-c38b-44b7-9786-c34a71e23cd9",
   "metadata": {},
   "outputs": [],
   "source": [
    "# Extract 'fs' and 'gc' lists from the results\n",
    "fs_list = [item['fs'] for item in data]  # Extract fs lists\n",
    "gc_list = [item['gc'] for item in data]  # Extract gc lists\n",
    "\n",
    "# Concatenate the lists\n",
    "fs_combined = [item for sublist in fs_list for item in sublist]\n",
    "gc_combined = [item for sublist in gc_list for item in sublist]\n",
    "\n",
    "# Convert to DataFrames\n",
    "df_fs = pd.DataFrame(fs_combined)\n",
    "df_gc = pd.DataFrame(gc_combined)\n",
    "\n",
    "\n",
    "df_fs['cellType']= 'fs'\n",
    "df_gc['cellType']= 'gc'\n",
    "expValdf= pd.concat([df_fs, df_gc])= pd.concat([df_fs, df_gc])"
   ]
  },
  {
   "cell_type": "markdown",
   "id": "5f3d721a-c85c-401c-861f-a08e7fc0d1b5",
   "metadata": {},
   "source": [
    "sanity chek if the length of the df is similar to the number of gc or fs in the cells df:"
   ]
  },
  {
   "cell_type": "code",
   "execution_count": 91,
   "id": "b3b87b27-52ef-4b1d-b62d-a1e440563f58",
   "metadata": {},
   "outputs": [
    {
     "data": {
      "text/plain": [
       "((582, 5), (582, 41), (905, 5), (905, 41))"
      ]
     },
     "execution_count": 91,
     "metadata": {},
     "output_type": "execute_result"
    }
   ],
   "source": [
    "fsids= list(cells[(cells.interneuron) & (cells.mrate_RF1>10)].cluId)\n",
    "df_fs[df_fs.light=='light'].shape, cells[(cells.interneuron) & (cells.mrate_RF1>10)].shape, df_gc[df_gc.light== 'light'].shape, cells[(cells.gridCell_FIRST) & (~cells.cluId.isin(fsids))].shape"
   ]
  },
  {
   "cell_type": "code",
   "execution_count": 114,
   "id": "667f2761-fbf3-4779-bbe9-f65567c6c385",
   "metadata": {},
   "outputs": [
    {
     "data": {
      "text/plain": [
       "Text(0.5, 1.0, 'gc \\n dark')"
      ]
     },
     "execution_count": 114,
     "metadata": {},
     "output_type": "execute_result"
    },
    {
     "data": {
      "image/png": "[encoded data removed]",
      "text/plain": [
       "<Figure size 1000x500 with 4 Axes>"
      ]
     },
     "metadata": {},
     "output_type": "display_data"
    }
   ],
   "source": [
    "col=4\n",
    "row=2\n",
    "sizePerRow, sizePerCol = 2.5,2.5\n",
    "fig = plt.figure(figsize=(col*sizePerCol,row*sizePerRow),constrained_layout=True) \n",
    "gs = gridspec.GridSpec(row,col, figure=fig, wspace= 0.1) # all our figure\n",
    "\n",
    "ax= fig.add_subplot(gs[0])\n",
    "light= 'light'\n",
    "ax.hist(df_fs[(df_fs.light==light)].expval, bins=30)\n",
    "ax.spines['top'].set_visible(False)\n",
    "ax.spines['right'].set_visible(False)\n",
    "ax.set_xlabel(\"relative time to \\n lever press [s]\")\n",
    "ax.set_ylabel(\"cells\")\n",
    "ax.set_title(f'fs \\n {light}', fontsize= 9)\n",
    "\n",
    "ax= fig.add_subplot(gs[1])\n",
    "ax.hist(df_gc[(df_gc.light==light)].expval, bins=30)\n",
    "ax.spines['top'].set_visible(False)\n",
    "ax.spines['right'].set_visible(False)\n",
    "ax.set_xlabel(\"relative time to \\n lever press [s]\")\n",
    "ax.set_ylabel(\"cells\")\n",
    "ax.set_title(f'gc \\n {light}', fontsize= 9)\n",
    "\n",
    "\n",
    "ax= fig.add_subplot(gs[2])\n",
    "light= 'dark'\n",
    "ax.hist(df_fs[(df_fs.light==light)].expval, bins=30)\n",
    "ax.spines['top'].set_visible(False)\n",
    "ax.spines['right'].set_visible(False)\n",
    "ax.set_xlabel(\"relative time to \\n lever press [s]\")\n",
    "ax.set_ylabel(\"cells\")\n",
    "ax.set_title(f'fs \\n {light}', fontsize= 9)\n",
    "\n",
    "ax= fig.add_subplot(gs[3])\n",
    "ax.hist(df_gc[(df_gc.light==light)].expval, bins=30)\n",
    "ax.spines['top'].set_visible(False)\n",
    "ax.spines['right'].set_visible(False)\n",
    "ax.set_xlabel(\"relative time to \\n lever press [s]\")\n",
    "ax.set_ylabel(\"cells\")\n",
    "ax.set_title(f'gc \\n {light}', fontsize= 9)"
   ]
  },
  {
   "cell_type": "code",
   "execution_count": 116,
   "id": "e34158e5-5a47-449c-b52d-3f0c09534869",
   "metadata": {},
   "outputs": [],
   "source": [
    "fsclu_light= df_fs[(df_fs.light=='light')&(df_fs.expval<0.01) & (df_fs.expval>-0.01)]\n",
    "fsclu_dark= df_fs[(df_fs.light=='dark')&(df_fs.expval<0.01) & (df_fs.expval>-0.01)]"
   ]
  },
  {
   "cell_type": "markdown",
   "id": "7c92f5f8-d56b-462b-afc8-1781f54bd0c9",
   "metadata": {},
   "source": [
    "save the df so I dont need to run this again "
   ]
  },
  {
   "cell_type": "code",
   "execution_count": 118,
   "id": "9c68472a-fd34-4e96-a678-b89da489512d",
   "metadata": {},
   "outputs": [
    {
     "data": {
      "text/plain": [
       "'/adata/projects/autopi_inter/result/fsgc_expvalues.csv'"
      ]
     },
     "execution_count": 118,
     "metadata": {},
     "output_type": "execute_result"
    }
   ],
   "source": []
  },
  {
   "cell_type": "code",
   "execution_count": 119,
   "id": "a6e0da7d-4826-45b1-9a82-7d9968c56407",
   "metadata": {},
   "outputs": [],
   "source": [
    "fn= myProject.dataPath+ 'result/fsgc_expvalues.csv'\n",
    "fn= 'fsgc_expvalues.csv'\n",
    "expValdf.to_csv(fn , index=False)"
   ]
  },
  {
   "cell_type": "code",
   "execution_count": null,
   "id": "9215cc02-cbbb-4e78-9217-849457de85e5",
   "metadata": {},
   "outputs": [],
   "source": []
  }
 ],
 "metadata": {
  "kernelspec": {
   "display_name": "DEEPLABCUT",
   "language": "python",
   "name": "deeplabcut"
  },
  "language_info": {
   "codemirror_mode": {
    "name": "ipython",
    "version": 3
   },
   "file_extension": ".py",
   "mimetype": "text/x-python",
   "name": "python",
   "nbconvert_exporter": "python",
   "pygments_lexer": "ipython3",
   "version": "3.8.13"
  },
  "widgets": {
   "application/vnd.jupyter.widget-state+json": {
    "state": {},
    "version_major": 2,
    "version_minor": 0
   }
  }
 },
 "nbformat": 4,
 "nbformat_minor": 5
}
