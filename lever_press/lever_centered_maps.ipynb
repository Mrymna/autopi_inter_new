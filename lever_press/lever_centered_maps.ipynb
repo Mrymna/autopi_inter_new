{
 "cells": [
  {
   "cell_type": "markdown",
   "id": "c0a7c550-f717-4f07-85ca-9f3aebaad59b",
   "metadata": {},
   "source": [
    "# Lever centered firing rate maps\n",
    "\n",
    "This is a copy from Beate code to get the \"myLeverMapsDissociateStats.pickle\" for all the sessions, what beate ran was only for 90 sessions \n",
    "\n",
    "The main code is here: repo/autopi_mec_pub/Beate/lever_anchored_fields/lever_centered_maps.ipynb"
   ]
  },
  {
   "cell_type": "code",
   "execution_count": 1,
   "id": "d91b3b86-a3cb-42f1-a360-0281ced2972e",
   "metadata": {},
   "outputs": [
    {
     "name": "stdout",
     "output_type": "stream",
     "text": [
      "creating myProject, an autopipy.project object\n",
      "Project name: autopi_inter\n",
      "dataPath: /adata/projects/autopi_inter/\n",
      "dlcModelPath: /adata/models\n",
      "Reading /adata/projects/autopi_inter//sessionList\n",
      "We have 180 testing sessions in the list\n",
      "spikeA.Kilosort_session objects are in sSessions\n"
     ]
    }
   ],
   "source": [
    "%load_ext autoreload\n",
    "%autoreload 2\n",
    "%matplotlib inline\n",
    "%run setup_project.py\n",
    "%run generic_plot_functions.py\n",
    "\n",
    "projectName, dataPath, dlcModelPath, myProject, sSessions = setup_project_session_lists(projectName=\"autopi_inter\",\n",
    "                                                                dataPath=\"/adata/projects/autopi_inter/\",dlcModelPath=\"/adata/models\")\n"
   ]
  },
  {
   "cell_type": "code",
   "execution_count": 2,
   "id": "7bb5e3ee-6875-4920-832f-dc2d76f7800d",
   "metadata": {},
   "outputs": [
    {
     "name": "stdout",
     "output_type": "stream",
     "text": [
      "Loading Animal_pose and Spike_train, sSes.ap and sSes.cg\n",
      "Will load .pose.npy\n"
     ]
    },
    {
     "name": "stderr",
     "output_type": "stream",
     "text": [
      "100%|██████████████████████████████████████████████████████████████████████████████████████████████████████████████████████████████████████████████████████████| 180/180 [03:44<00:00,  1.24s/it]\n"
     ]
    },
    {
     "name": "stdout",
     "output_type": "stream",
     "text": [
      "Loading ses.trial_table_simple as ses.trials\n",
      "Create condition intervals in ses.intervalDict\n"
     ]
    }
   ],
   "source": [
    "prepareSessionsForSpatialAnalysisProject(sSessions,myProject.sessionList) ### sSeslist >>>> sSessions"
   ]
  },
  {
   "cell_type": "code",
   "execution_count": 3,
   "id": "9b44a7ad-dd3c-4954-a22f-06d17a7d5767",
   "metadata": {},
   "outputs": [
    {
     "name": "stderr",
     "output_type": "stream",
     "text": [
      "180it [00:04, 40.54it/s]\n"
     ]
    },
    {
     "data": {
      "text/plain": [
       "dict_keys(['circ80', 'circ80_1', 'circ80_2', 'task', 'task_1', 'task_2', 'light', 'light_1', 'light_2', 'dark', 'dark_1', 'dark_2', 'trialNo', 'searchPath_light', 'searchPath_light_1', 'searchPath_light_2', 'searchPath_dark', 'searchPath_dark_1', 'searchPath_dark_2', 'searchToLeverPath_light', 'searchToLeverPath_light_1', 'searchToLeverPath_light_2', 'searchToLeverPath_dark', 'searchToLeverPath_dark_1', 'searchToLeverPath_dark_2', 'homingPath_light', 'homingPath_light_1', 'homingPath_light_2', 'homingPath_dark', 'homingPath_dark_1', 'homingPath_dark_2', 'homingFromLeavingLever_light', 'homingFromLeavingLever_light_1', 'homingFromLeavingLever_light_2', 'homingFromLeavingLever_dark', 'homingFromLeavingLever_dark_1', 'homingFromLeavingLever_dark_2', 'homingFromLeavingLeverToPeriphery_light', 'homingFromLeavingLeverToPeriphery_light_1', 'homingFromLeavingLeverToPeriphery_light_2', 'homingFromLeavingLeverToPeriphery_dark', 'homingFromLeavingLeverToPeriphery_dark_1', 'homingFromLeavingLeverToPeriphery_dark_2', 'atLever_light', 'atLever_light_1', 'atLever_light_2', 'atLever_dark', 'atLever_dark_1', 'atLever_dark_2', 'all_light', 'all_light_1', 'all_light_2', 'all_dark', 'all_dark_1', 'all_dark_2', 'all_light_noPress', 'all_dark_noPress', 'searchToLeverPathWithBridge_light', 'searchToLeverPathWithBridge_dark', 'homingFromLeavingLeverWithBridge_light', 'homingFromLeavingLeverWithBridge_dark', 'all_task', 'all_task_1', 'all_task_2'])"
      ]
     },
     "execution_count": 3,
     "metadata": {},
     "output_type": "execute_result"
    }
   ],
   "source": [
    "for ses, sSes in tqdm(zip(myProject.sessionList,sSessions)):\n",
    "    getSearchHomingIntervals(ses,sSes)\n",
    "ses.intervalDict.keys()"
   ]
  },
  {
   "cell_type": "code",
   "execution_count": 4,
   "id": "e8cab840-1932-4db1-ada3-6e237838a4bb",
   "metadata": {},
   "outputs": [
    {
     "name": "stdout",
     "output_type": "stream",
     "text": [
      "loading /adata/projects/autopi_inter//results/cells_with_leverCells.csv\n",
      "loading /adata/projects/autopi_inter//results/myMaps.pickle\n"
     ]
    }
   ],
   "source": [
    "fn=myProject.dataPath+\"/results/cells_with_leverCells.csv\"\n",
    "print('loading', fn)\n",
    "cells = pd.read_csv(fn)\n",
    "\n",
    "fn = myProject.dataPath+\"/results/myMaps.pickle\" #, dictionary with key per condition\n",
    "with open(fn, 'rb') as handle:\n",
    "    print('loading',fn)\n",
    "    myMaps = pickle.load(handle)"
   ]
  },
  {
   "cell_type": "code",
   "execution_count": 5,
   "id": "9d7c023d-fa8d-4da5-a16f-7b7bfe8d5ce9",
   "metadata": {},
   "outputs": [
    {
     "data": {
      "text/html": [
       "<div>\n",
       "<style scoped>\n",
       "    .dataframe tbody tr th:only-of-type {\n",
       "        vertical-align: middle;\n",
       "    }\n",
       "\n",
       "    .dataframe tbody tr th {\n",
       "        vertical-align: top;\n",
       "    }\n",
       "\n",
       "    .dataframe thead th {\n",
       "        text-align: right;\n",
       "    }\n",
       "</style>\n",
       "<table border=\"1\" class=\"dataframe\">\n",
       "  <thead>\n",
       "    <tr style=\"text-align: right;\">\n",
       "      <th></th>\n",
       "      <th>cluId</th>\n",
       "      <th>session</th>\n",
       "      <th>mouse</th>\n",
       "      <th>mean_rate</th>\n",
       "      <th>refractory</th>\n",
       "      <th>refractoryClean</th>\n",
       "      <th>usable</th>\n",
       "      <th>sumShortAuto</th>\n",
       "      <th>meanRateStable</th>\n",
       "      <th>mrate_RF1</th>\n",
       "      <th>...</th>\n",
       "      <th>borderCell_AND</th>\n",
       "      <th>borderCell_OR</th>\n",
       "      <th>borderCell_FIRST</th>\n",
       "      <th>borderCell</th>\n",
       "      <th>onlySpatialSelective</th>\n",
       "      <th>speedCell_AND</th>\n",
       "      <th>speedCell_OR</th>\n",
       "      <th>speedCell_FIRST</th>\n",
       "      <th>leverCell_all_light</th>\n",
       "      <th>leverCell_all_dark</th>\n",
       "    </tr>\n",
       "  </thead>\n",
       "  <tbody>\n",
       "    <tr>\n",
       "      <th>27</th>\n",
       "      <td>mn8578-05122021-0108_61</td>\n",
       "      <td>mn8578-05122021-0108</td>\n",
       "      <td>mn8578</td>\n",
       "      <td>8.014829</td>\n",
       "      <td>0.097981</td>\n",
       "      <td>True</td>\n",
       "      <td>True</td>\n",
       "      <td>32890.0</td>\n",
       "      <td>True</td>\n",
       "      <td>7.892154</td>\n",
       "      <td>...</td>\n",
       "      <td>False</td>\n",
       "      <td>False</td>\n",
       "      <td>False</td>\n",
       "      <td>False</td>\n",
       "      <td>False</td>\n",
       "      <td>True</td>\n",
       "      <td>True</td>\n",
       "      <td>True</td>\n",
       "      <td>True</td>\n",
       "      <td>True</td>\n",
       "    </tr>\n",
       "    <tr>\n",
       "      <th>32</th>\n",
       "      <td>mn8578-05122021-0108_161</td>\n",
       "      <td>mn8578-05122021-0108</td>\n",
       "      <td>mn8578</td>\n",
       "      <td>7.329768</td>\n",
       "      <td>0.042397</td>\n",
       "      <td>True</td>\n",
       "      <td>True</td>\n",
       "      <td>23832.0</td>\n",
       "      <td>True</td>\n",
       "      <td>5.983500</td>\n",
       "      <td>...</td>\n",
       "      <td>False</td>\n",
       "      <td>False</td>\n",
       "      <td>False</td>\n",
       "      <td>False</td>\n",
       "      <td>False</td>\n",
       "      <td>False</td>\n",
       "      <td>False</td>\n",
       "      <td>False</td>\n",
       "      <td>True</td>\n",
       "      <td>True</td>\n",
       "    </tr>\n",
       "    <tr>\n",
       "      <th>39</th>\n",
       "      <td>mn8578-05122021-0108_233</td>\n",
       "      <td>mn8578-05122021-0108</td>\n",
       "      <td>mn8578</td>\n",
       "      <td>1.576464</td>\n",
       "      <td>0.043272</td>\n",
       "      <td>True</td>\n",
       "      <td>True</td>\n",
       "      <td>2113.0</td>\n",
       "      <td>True</td>\n",
       "      <td>1.309752</td>\n",
       "      <td>...</td>\n",
       "      <td>False</td>\n",
       "      <td>False</td>\n",
       "      <td>False</td>\n",
       "      <td>False</td>\n",
       "      <td>False</td>\n",
       "      <td>True</td>\n",
       "      <td>True</td>\n",
       "      <td>True</td>\n",
       "      <td>True</td>\n",
       "      <td>False</td>\n",
       "    </tr>\n",
       "    <tr>\n",
       "      <th>42</th>\n",
       "      <td>mn8578-05122021-0108_238</td>\n",
       "      <td>mn8578-05122021-0108</td>\n",
       "      <td>mn8578</td>\n",
       "      <td>4.762500</td>\n",
       "      <td>0.075260</td>\n",
       "      <td>True</td>\n",
       "      <td>True</td>\n",
       "      <td>11964.0</td>\n",
       "      <td>True</td>\n",
       "      <td>5.726513</td>\n",
       "      <td>...</td>\n",
       "      <td>False</td>\n",
       "      <td>False</td>\n",
       "      <td>False</td>\n",
       "      <td>False</td>\n",
       "      <td>False</td>\n",
       "      <td>True</td>\n",
       "      <td>True</td>\n",
       "      <td>True</td>\n",
       "      <td>True</td>\n",
       "      <td>True</td>\n",
       "    </tr>\n",
       "    <tr>\n",
       "      <th>44</th>\n",
       "      <td>mn8578-05122021-0108_247</td>\n",
       "      <td>mn8578-05122021-0108</td>\n",
       "      <td>mn8578</td>\n",
       "      <td>3.295005</td>\n",
       "      <td>0.107630</td>\n",
       "      <td>True</td>\n",
       "      <td>True</td>\n",
       "      <td>6306.0</td>\n",
       "      <td>True</td>\n",
       "      <td>3.378334</td>\n",
       "      <td>...</td>\n",
       "      <td>False</td>\n",
       "      <td>False</td>\n",
       "      <td>False</td>\n",
       "      <td>False</td>\n",
       "      <td>False</td>\n",
       "      <td>True</td>\n",
       "      <td>True</td>\n",
       "      <td>True</td>\n",
       "      <td>True</td>\n",
       "      <td>True</td>\n",
       "    </tr>\n",
       "    <tr>\n",
       "      <th>...</th>\n",
       "      <td>...</td>\n",
       "      <td>...</td>\n",
       "      <td>...</td>\n",
       "      <td>...</td>\n",
       "      <td>...</td>\n",
       "      <td>...</td>\n",
       "      <td>...</td>\n",
       "      <td>...</td>\n",
       "      <td>...</td>\n",
       "      <td>...</td>\n",
       "      <td>...</td>\n",
       "      <td>...</td>\n",
       "      <td>...</td>\n",
       "      <td>...</td>\n",
       "      <td>...</td>\n",
       "      <td>...</td>\n",
       "      <td>...</td>\n",
       "      <td>...</td>\n",
       "      <td>...</td>\n",
       "      <td>...</td>\n",
       "      <td>...</td>\n",
       "    </tr>\n",
       "    <tr>\n",
       "      <th>9304</th>\n",
       "      <td>jp486-05032023-0108_1367</td>\n",
       "      <td>jp486-05032023-0108</td>\n",
       "      <td>jp486</td>\n",
       "      <td>3.328628</td>\n",
       "      <td>0.093460</td>\n",
       "      <td>True</td>\n",
       "      <td>True</td>\n",
       "      <td>5837.0</td>\n",
       "      <td>True</td>\n",
       "      <td>3.634450</td>\n",
       "      <td>...</td>\n",
       "      <td>False</td>\n",
       "      <td>False</td>\n",
       "      <td>False</td>\n",
       "      <td>False</td>\n",
       "      <td>False</td>\n",
       "      <td>False</td>\n",
       "      <td>True</td>\n",
       "      <td>True</td>\n",
       "      <td>False</td>\n",
       "      <td>False</td>\n",
       "    </tr>\n",
       "    <tr>\n",
       "      <th>9326</th>\n",
       "      <td>jp486-05032023-0108_1538</td>\n",
       "      <td>jp486-05032023-0108</td>\n",
       "      <td>jp486</td>\n",
       "      <td>4.125202</td>\n",
       "      <td>0.017784</td>\n",
       "      <td>True</td>\n",
       "      <td>True</td>\n",
       "      <td>3665.0</td>\n",
       "      <td>True</td>\n",
       "      <td>4.883878</td>\n",
       "      <td>...</td>\n",
       "      <td>False</td>\n",
       "      <td>False</td>\n",
       "      <td>False</td>\n",
       "      <td>False</td>\n",
       "      <td>False</td>\n",
       "      <td>False</td>\n",
       "      <td>True</td>\n",
       "      <td>False</td>\n",
       "      <td>True</td>\n",
       "      <td>False</td>\n",
       "    </tr>\n",
       "    <tr>\n",
       "      <th>9392</th>\n",
       "      <td>jp486-25032023-0108_570</td>\n",
       "      <td>jp486-25032023-0108</td>\n",
       "      <td>jp486</td>\n",
       "      <td>1.462024</td>\n",
       "      <td>0.038471</td>\n",
       "      <td>True</td>\n",
       "      <td>True</td>\n",
       "      <td>4719.0</td>\n",
       "      <td>True</td>\n",
       "      <td>1.269551</td>\n",
       "      <td>...</td>\n",
       "      <td>False</td>\n",
       "      <td>False</td>\n",
       "      <td>False</td>\n",
       "      <td>False</td>\n",
       "      <td>False</td>\n",
       "      <td>True</td>\n",
       "      <td>True</td>\n",
       "      <td>True</td>\n",
       "      <td>False</td>\n",
       "      <td>True</td>\n",
       "    </tr>\n",
       "    <tr>\n",
       "      <th>9991</th>\n",
       "      <td>jp487-06022023-0108_688</td>\n",
       "      <td>jp487-06022023-0108</td>\n",
       "      <td>jp487</td>\n",
       "      <td>3.590828</td>\n",
       "      <td>0.029410</td>\n",
       "      <td>True</td>\n",
       "      <td>True</td>\n",
       "      <td>33400.0</td>\n",
       "      <td>True</td>\n",
       "      <td>0.740065</td>\n",
       "      <td>...</td>\n",
       "      <td>False</td>\n",
       "      <td>False</td>\n",
       "      <td>False</td>\n",
       "      <td>False</td>\n",
       "      <td>False</td>\n",
       "      <td>False</td>\n",
       "      <td>False</td>\n",
       "      <td>False</td>\n",
       "      <td>True</td>\n",
       "      <td>False</td>\n",
       "    </tr>\n",
       "    <tr>\n",
       "      <th>10795</th>\n",
       "      <td>jp499-18052023-0108_761</td>\n",
       "      <td>jp499-18052023-0108</td>\n",
       "      <td>jp499</td>\n",
       "      <td>2.553550</td>\n",
       "      <td>0.100080</td>\n",
       "      <td>True</td>\n",
       "      <td>True</td>\n",
       "      <td>14082.0</td>\n",
       "      <td>True</td>\n",
       "      <td>3.131241</td>\n",
       "      <td>...</td>\n",
       "      <td>False</td>\n",
       "      <td>False</td>\n",
       "      <td>False</td>\n",
       "      <td>False</td>\n",
       "      <td>False</td>\n",
       "      <td>True</td>\n",
       "      <td>True</td>\n",
       "      <td>True</td>\n",
       "      <td>True</td>\n",
       "      <td>True</td>\n",
       "    </tr>\n",
       "  </tbody>\n",
       "</table>\n",
       "<p>642 rows × 36 columns</p>\n",
       "</div>"
      ],
      "text/plain": [
       "                          cluId               session   mouse  mean_rate  \\\n",
       "27      mn8578-05122021-0108_61  mn8578-05122021-0108  mn8578   8.014829   \n",
       "32     mn8578-05122021-0108_161  mn8578-05122021-0108  mn8578   7.329768   \n",
       "39     mn8578-05122021-0108_233  mn8578-05122021-0108  mn8578   1.576464   \n",
       "42     mn8578-05122021-0108_238  mn8578-05122021-0108  mn8578   4.762500   \n",
       "44     mn8578-05122021-0108_247  mn8578-05122021-0108  mn8578   3.295005   \n",
       "...                         ...                   ...     ...        ...   \n",
       "9304   jp486-05032023-0108_1367   jp486-05032023-0108   jp486   3.328628   \n",
       "9326   jp486-05032023-0108_1538   jp486-05032023-0108   jp486   4.125202   \n",
       "9392    jp486-25032023-0108_570   jp486-25032023-0108   jp486   1.462024   \n",
       "9991    jp487-06022023-0108_688   jp487-06022023-0108   jp487   3.590828   \n",
       "10795   jp499-18052023-0108_761   jp499-18052023-0108   jp499   2.553550   \n",
       "\n",
       "       refractory  refractoryClean  usable  sumShortAuto  meanRateStable  \\\n",
       "27       0.097981             True    True       32890.0            True   \n",
       "32       0.042397             True    True       23832.0            True   \n",
       "39       0.043272             True    True        2113.0            True   \n",
       "42       0.075260             True    True       11964.0            True   \n",
       "44       0.107630             True    True        6306.0            True   \n",
       "...           ...              ...     ...           ...             ...   \n",
       "9304     0.093460             True    True        5837.0            True   \n",
       "9326     0.017784             True    True        3665.0            True   \n",
       "9392     0.038471             True    True        4719.0            True   \n",
       "9991     0.029410             True    True       33400.0            True   \n",
       "10795    0.100080             True    True       14082.0            True   \n",
       "\n",
       "       mrate_RF1  ...  borderCell_AND  borderCell_OR borderCell_FIRST  \\\n",
       "27      7.892154  ...           False          False            False   \n",
       "32      5.983500  ...           False          False            False   \n",
       "39      1.309752  ...           False          False            False   \n",
       "42      5.726513  ...           False          False            False   \n",
       "44      3.378334  ...           False          False            False   \n",
       "...          ...  ...             ...            ...              ...   \n",
       "9304    3.634450  ...           False          False            False   \n",
       "9326    4.883878  ...           False          False            False   \n",
       "9392    1.269551  ...           False          False            False   \n",
       "9991    0.740065  ...           False          False            False   \n",
       "10795   3.131241  ...           False          False            False   \n",
       "\n",
       "       borderCell  onlySpatialSelective  speedCell_AND  speedCell_OR  \\\n",
       "27          False                 False           True          True   \n",
       "32          False                 False          False         False   \n",
       "39          False                 False           True          True   \n",
       "42          False                 False           True          True   \n",
       "44          False                 False           True          True   \n",
       "...           ...                   ...            ...           ...   \n",
       "9304        False                 False          False          True   \n",
       "9326        False                 False          False          True   \n",
       "9392        False                 False           True          True   \n",
       "9991        False                 False          False         False   \n",
       "10795       False                 False           True          True   \n",
       "\n",
       "       speedCell_FIRST  leverCell_all_light  leverCell_all_dark  \n",
       "27                True                 True                True  \n",
       "32               False                 True                True  \n",
       "39                True                 True               False  \n",
       "42                True                 True                True  \n",
       "44                True                 True                True  \n",
       "...                ...                  ...                 ...  \n",
       "9304              True                False               False  \n",
       "9326             False                 True               False  \n",
       "9392              True                False                True  \n",
       "9991             False                 True               False  \n",
       "10795             True                 True                True  \n",
       "\n",
       "[642 rows x 36 columns]"
      ]
     },
     "execution_count": 5,
     "metadata": {},
     "output_type": "execute_result"
    }
   ],
   "source": [
    "gridcell_table=cells[cells['gridCell_AND']]\n",
    "gridcell_table"
   ]
  },
  {
   "cell_type": "markdown",
   "id": "e3b207f3-ef0e-4e22-9c87-c1845388b331",
   "metadata": {},
   "source": [
    "## Firing rate maps around the lever"
   ]
  },
  {
   "cell_type": "code",
   "execution_count": 6,
   "id": "6ab55051-43d0-4d0b-8f9e-1548fde71518",
   "metadata": {},
   "outputs": [],
   "source": [
    "def getLeverMaps(ses,sSes,interName=\"light\",maxDistance=30, rotationType=\"none\",smooth=True,\n",
    "                 invalidateSmallBridgeAngle=False,invalidateMaxAngle=np.pi/12,\n",
    "                 rateType=\"map\",stats=False, refToLever=True):\n",
    "    \"\"\"\n",
    "    Get all the lever-centered firing rate maps or firing rate polar plots around the lever. The data can be plotted in different reference coordinate system.\n",
    "    The lever position is set to 0,0.\n",
    "    The orientation is either unchanged (\"none\") or relative to the vector going from the lever to the bridge (\"bridge\") or relative to the lever orientation (\"lever\")\n",
    "    \n",
    "    \n",
    "    Arguments\n",
    "    ses: autopipy session\n",
    "    sSes: spikeA session\n",
    "    interName: name of intervals to use (from ses.intervalDict)\n",
    "    maxDistance: max distance from lever\n",
    "    rotationType: can be \"none\",\"bridge\",\"lever\", once centered on the lever,\n",
    "                    we can rotate the position to have different reference frame (cartesian (none), relative to bridge direction, relative to lever orientation)\n",
    "    invalidateSmallBridgeAngle: whether to invalidate lever position when the bridge angle is small (for which cartesian and brdige reference frames are the same)\n",
    "                                This is done to eliminate data when the none and brdige rotations are the same\n",
    "                                This can be used to better contrast the prediction of \"bridge\" and \"none\" rotation\n",
    "    invalidateMaxAngle: angle below which we invalidate\n",
    "    rateType: (map) firing rate maps or (angular) angular rate histogram\n",
    "    stats: whether to return the statistics instead of the map.\n",
    "    \n",
    "    \"\"\"\n",
    "   \n",
    "    # change the x and y position of the mouse so that it is relative to the lever position\n",
    "    #print(ses.name)\n",
    "    \n",
    "    sSes.ap.load_pose_from_file() # get original hd data, which file depends on what we used when calling prepareSessionsForSpatialAnalysis\n",
    "    \n",
    "    if not refToLever==\"arenaref\":\n",
    "    # transform the coordinate system of the position data, in setup_project.py\n",
    "        toLeverReferenceFrame(ses=ses,sSes=sSes,maxDistance=maxDistance, rotationType=rotationType,\n",
    "                             invalidateSmallBridgeAngle=invalidateSmallBridgeAngle,invalidateMaxAngle=invalidateMaxAngle)\n",
    "    else:#we use the same position data as in the lever-centered maps, but we don't change reference frame\n",
    "        leverX,leverY,leverOri = getLeverPosition(ses)\n",
    "        mouseX = sSes.ap.pose_ori[:,1]-leverX\n",
    "        mouseY = sSes.ap.pose_ori[:,2]-leverY\n",
    "    \n",
    "        D = np.sqrt(mouseX**2+mouseY**2)\n",
    "        sSes.ap.pose_ori[:,1][D>maxDistance]= np.nan\n",
    "        sSes.ap.pose_ori[:,2][D>maxDistance]= np.nan\n",
    "\n",
    "\n",
    "    sSes.ap.set_intervals(ses.intervalDict[interName])\n",
    "\n",
    "    if rateType==\"map\": # normal 2D maps\n",
    "        for n in sSes.cg.neuron_list:\n",
    "            n.spike_train.set_intervals(ses.intervalDict[interName])\n",
    "            if stats==False:\n",
    "                if not refToLever==\"arenaref\":\n",
    "                    n.spatial_properties.firing_rate_map_2d(cm_per_bin =1, smoothing_sigma_cm = 2, smoothing=smooth,xy_range = np.array([[-maxDistance,-maxDistance],[maxDistance,maxDistance]]) )\n",
    "                else:\n",
    "                    n.spatial_properties.firing_rate_map_2d(cm_per_bin =3, smoothing_sigma_cm = 6, smoothing=smooth,xy_range = np.array([[-50,-50],[50,50]]))\n",
    "            else:\n",
    "                if not refToLever==\"arenaref\":\n",
    "                    n.spatial_properties.firing_rate_map_2d(cm_per_bin =1, smoothing_sigma_cm = 0, smoothing=smooth,xy_range = np.array([[-maxDistance,-maxDistance],[maxDistance,maxDistance]]) )\n",
    "                else:\n",
    "                    n.spatial_properties.firing_rate_map_2d(cm_per_bin =3, smoothing_sigma_cm = 0, smoothing=smooth,xy_range = np.array([[-50,-50],[50,50]]))\n",
    "        if stats==False:\n",
    "            mapList = [ n.spatial_properties.firing_rate_map for n in sSes.cg.neuron_list ]\n",
    "            mapStack = np.stack(mapList, axis=0)\n",
    "        else:\n",
    "            mapList =  [ n.spatial_properties.information_score() for n in sSes.cg.neuron_list ]\n",
    "            mapStack = np.stack(mapList, axis=0)\n",
    "    elif rateType==\"angular\" :# angular 1D maps\n",
    "        for n in sSes.cg.neuron_list:\n",
    "            n.spike_train.set_intervals(ses.intervalDict[interName])\n",
    "            n.spatial_properties.firing_rate_head_direction_histogram(deg_per_bin=10, smoothing_sigma_deg=10, smoothing=True)\n",
    "        if stats == False:\n",
    "            mapList = [ n.spatial_properties.firing_rate_head_direction_histo for n in sSes.cg.neuron_list ]\n",
    "            mapStack = np.stack(mapList, axis=0)\n",
    "        else:\n",
    "            mapList = [ np.array(n.spatial_properties.head_direction_score()) for n in sSes.cg.neuron_list ] #mean_direction_rad, mean_direction_deg, mean_vector_length, peak_angle_rad, peak_rate\n",
    "            mapStack = np.stack(mapList, axis=0)\n",
    "    else:\n",
    "        print(\"rateType not supported\")\n",
    "    \n",
    "    sSes.ap.load_pose_from_file() # get original position data\n",
    "    \n",
    "    return mapStack"
   ]
  },
  {
   "cell_type": "code",
   "execution_count": 7,
   "id": "efa22964-b693-44cd-8221-71650de73e24",
   "metadata": {},
   "outputs": [
    {
     "data": {
      "text/plain": [
       "<matplotlib.image.AxesImage at 0x7fb2c5d3dee0>"
      ]
     },
     "execution_count": 7,
     "metadata": {},
     "output_type": "execute_result"
    },
    {
     "data": {
      "image/png": "[encoded data removed]",
      "text/plain": [
       "<Figure size 640x480 with 1 Axes>"
      ]
     },
     "metadata": {},
     "output_type": "display_data"
    }
   ],
   "source": [
    "plt.imshow(myMaps['all_light'][3].T, origin='lower',cmap='jet')"
   ]
  },
  {
   "cell_type": "code",
   "execution_count": 10,
   "id": "6f129586-df9a-4316-901e-7a6727e0a556",
   "metadata": {},
   "outputs": [],
   "source": [
    "rateType=\"map\"\n",
    "sSes = sSessions[-1]\n",
    "ses = myProject.sessionList[-1]\n",
    "resMap = {}\n",
    "for rotType in [\"lever\",\"bridge\",\"none\"]:\n",
    "    resMap[rotType] = getLeverMaps(ses,sSes,interName=\"all_light\",maxDistance=18,\n",
    "                      rotationType = rotType, invalidateSmallBridgeAngle=False, rateType=rateType,stats=False)"
   ]
  },
  {
   "cell_type": "code",
   "execution_count": 8,
   "id": "9e1e316b-7217-4636-8b73-904f380e4b07",
   "metadata": {},
   "outputs": [],
   "source": [
    "conditions = [\"all_light\",\"all_dark\",\"all_light_1\",\"all_light_2\",\"all_dark_1\",\"all_dark_2\"]\n",
    "keys = conditions"
   ]
  },
  {
   "cell_type": "code",
   "execution_count": 12,
   "id": "59b0a7a0-38ed-493d-ac64-5b58b0ef29ec",
   "metadata": {},
   "outputs": [
    {
     "name": "stdout",
     "output_type": "stream",
     "text": [
      "map all_light lever\n"
     ]
    },
    {
     "name": "stderr",
     "output_type": "stream",
     "text": [
      "180it [11:14,  3.75s/it]\n"
     ]
    },
    {
     "name": "stdout",
     "output_type": "stream",
     "text": [
      "map all_light bridge\n"
     ]
    },
    {
     "name": "stderr",
     "output_type": "stream",
     "text": [
      "180it [09:51,  3.28s/it]\n"
     ]
    },
    {
     "name": "stdout",
     "output_type": "stream",
     "text": [
      "map all_light none\n"
     ]
    },
    {
     "name": "stderr",
     "output_type": "stream",
     "text": [
      "180it [13:46,  4.59s/it]\n"
     ]
    },
    {
     "name": "stdout",
     "output_type": "stream",
     "text": [
      "map all_dark lever\n"
     ]
    },
    {
     "name": "stderr",
     "output_type": "stream",
     "text": [
      "180it [11:06,  3.70s/it]\n"
     ]
    },
    {
     "name": "stdout",
     "output_type": "stream",
     "text": [
      "map all_dark bridge\n"
     ]
    },
    {
     "name": "stderr",
     "output_type": "stream",
     "text": [
      "180it [11:25,  3.81s/it]\n"
     ]
    },
    {
     "name": "stdout",
     "output_type": "stream",
     "text": [
      "map all_dark none\n"
     ]
    },
    {
     "name": "stderr",
     "output_type": "stream",
     "text": [
      "180it [10:58,  3.66s/it]\n"
     ]
    },
    {
     "name": "stdout",
     "output_type": "stream",
     "text": [
      "map all_light_1 lever\n"
     ]
    },
    {
     "name": "stderr",
     "output_type": "stream",
     "text": [
      "180it [08:20,  2.78s/it]\n"
     ]
    },
    {
     "name": "stdout",
     "output_type": "stream",
     "text": [
      "map all_light_1 bridge\n"
     ]
    },
    {
     "name": "stderr",
     "output_type": "stream",
     "text": [
      "180it [08:13,  2.74s/it]\n"
     ]
    },
    {
     "name": "stdout",
     "output_type": "stream",
     "text": [
      "map all_light_1 none\n"
     ]
    },
    {
     "name": "stderr",
     "output_type": "stream",
     "text": [
      "180it [08:14,  2.75s/it]\n"
     ]
    },
    {
     "name": "stdout",
     "output_type": "stream",
     "text": [
      "map all_light_2 lever\n"
     ]
    },
    {
     "name": "stderr",
     "output_type": "stream",
     "text": [
      "180it [08:22,  2.79s/it]\n"
     ]
    },
    {
     "name": "stdout",
     "output_type": "stream",
     "text": [
      "map all_light_2 bridge\n"
     ]
    },
    {
     "name": "stderr",
     "output_type": "stream",
     "text": [
      "180it [08:24,  2.80s/it]\n"
     ]
    },
    {
     "name": "stdout",
     "output_type": "stream",
     "text": [
      "map all_light_2 none\n"
     ]
    },
    {
     "name": "stderr",
     "output_type": "stream",
     "text": [
      "180it [08:31,  2.84s/it]\n"
     ]
    },
    {
     "name": "stdout",
     "output_type": "stream",
     "text": [
      "map all_dark_1 lever\n"
     ]
    },
    {
     "name": "stderr",
     "output_type": "stream",
     "text": [
      "180it [08:23,  2.80s/it]\n"
     ]
    },
    {
     "name": "stdout",
     "output_type": "stream",
     "text": [
      "map all_dark_1 bridge\n"
     ]
    },
    {
     "name": "stderr",
     "output_type": "stream",
     "text": [
      "180it [06:34,  2.19s/it]\n"
     ]
    },
    {
     "name": "stdout",
     "output_type": "stream",
     "text": [
      "map all_dark_1 none\n"
     ]
    },
    {
     "name": "stderr",
     "output_type": "stream",
     "text": [
      "180it [05:41,  1.90s/it]\n"
     ]
    },
    {
     "name": "stdout",
     "output_type": "stream",
     "text": [
      "map all_dark_2 lever\n"
     ]
    },
    {
     "name": "stderr",
     "output_type": "stream",
     "text": [
      "180it [05:45,  1.92s/it]\n"
     ]
    },
    {
     "name": "stdout",
     "output_type": "stream",
     "text": [
      "map all_dark_2 bridge\n"
     ]
    },
    {
     "name": "stderr",
     "output_type": "stream",
     "text": [
      "180it [05:48,  1.94s/it]\n"
     ]
    },
    {
     "name": "stdout",
     "output_type": "stream",
     "text": [
      "map all_dark_2 none\n"
     ]
    },
    {
     "name": "stderr",
     "output_type": "stream",
     "text": [
      "180it [05:46,  1.93s/it]\n"
     ]
    },
    {
     "name": "stdout",
     "output_type": "stream",
     "text": [
      "angular all_light lever\n"
     ]
    },
    {
     "name": "stderr",
     "output_type": "stream",
     "text": [
      "180it [09:05,  3.03s/it]\n"
     ]
    },
    {
     "name": "stdout",
     "output_type": "stream",
     "text": [
      "angular all_light bridge\n"
     ]
    },
    {
     "name": "stderr",
     "output_type": "stream",
     "text": [
      "180it [10:49,  3.61s/it]\n"
     ]
    },
    {
     "name": "stdout",
     "output_type": "stream",
     "text": [
      "angular all_light none\n"
     ]
    },
    {
     "name": "stderr",
     "output_type": "stream",
     "text": [
      "180it [09:54,  3.30s/it]\n"
     ]
    },
    {
     "name": "stdout",
     "output_type": "stream",
     "text": [
      "angular all_dark lever\n"
     ]
    },
    {
     "name": "stderr",
     "output_type": "stream",
     "text": [
      "180it [09:27,  3.15s/it]\n"
     ]
    },
    {
     "name": "stdout",
     "output_type": "stream",
     "text": [
      "angular all_dark bridge\n"
     ]
    },
    {
     "name": "stderr",
     "output_type": "stream",
     "text": [
      "180it [10:15,  3.42s/it]\n"
     ]
    },
    {
     "name": "stdout",
     "output_type": "stream",
     "text": [
      "angular all_dark none\n"
     ]
    },
    {
     "name": "stderr",
     "output_type": "stream",
     "text": [
      "180it [09:25,  3.14s/it]\n"
     ]
    },
    {
     "name": "stdout",
     "output_type": "stream",
     "text": [
      "angular all_light_1 lever\n"
     ]
    },
    {
     "name": "stderr",
     "output_type": "stream",
     "text": [
      "180it [06:42,  2.23s/it]\n"
     ]
    },
    {
     "name": "stdout",
     "output_type": "stream",
     "text": [
      "angular all_light_1 bridge\n"
     ]
    },
    {
     "name": "stderr",
     "output_type": "stream",
     "text": [
      "180it [05:55,  1.97s/it]\n"
     ]
    },
    {
     "name": "stdout",
     "output_type": "stream",
     "text": [
      "angular all_light_1 none\n"
     ]
    },
    {
     "name": "stderr",
     "output_type": "stream",
     "text": [
      "180it [05:53,  1.96s/it]\n"
     ]
    },
    {
     "name": "stdout",
     "output_type": "stream",
     "text": [
      "angular all_light_2 lever\n"
     ]
    },
    {
     "name": "stderr",
     "output_type": "stream",
     "text": [
      "180it [05:52,  1.96s/it]\n"
     ]
    },
    {
     "name": "stdout",
     "output_type": "stream",
     "text": [
      "angular all_light_2 bridge\n"
     ]
    },
    {
     "name": "stderr",
     "output_type": "stream",
     "text": [
      "180it [05:54,  1.97s/it]\n"
     ]
    },
    {
     "name": "stdout",
     "output_type": "stream",
     "text": [
      "angular all_light_2 none\n"
     ]
    },
    {
     "name": "stderr",
     "output_type": "stream",
     "text": [
      "180it [05:52,  1.96s/it]\n"
     ]
    },
    {
     "name": "stdout",
     "output_type": "stream",
     "text": [
      "angular all_dark_1 lever\n"
     ]
    },
    {
     "name": "stderr",
     "output_type": "stream",
     "text": [
      "180it [05:38,  1.88s/it]\n"
     ]
    },
    {
     "name": "stdout",
     "output_type": "stream",
     "text": [
      "angular all_dark_1 bridge\n"
     ]
    },
    {
     "name": "stderr",
     "output_type": "stream",
     "text": [
      "180it [05:39,  1.89s/it]\n"
     ]
    },
    {
     "name": "stdout",
     "output_type": "stream",
     "text": [
      "angular all_dark_1 none\n"
     ]
    },
    {
     "name": "stderr",
     "output_type": "stream",
     "text": [
      "180it [05:41,  1.90s/it]\n"
     ]
    },
    {
     "name": "stdout",
     "output_type": "stream",
     "text": [
      "angular all_dark_2 lever\n"
     ]
    },
    {
     "name": "stderr",
     "output_type": "stream",
     "text": [
      "180it [05:41,  1.90s/it]\n"
     ]
    },
    {
     "name": "stdout",
     "output_type": "stream",
     "text": [
      "angular all_dark_2 bridge\n"
     ]
    },
    {
     "name": "stderr",
     "output_type": "stream",
     "text": [
      "180it [05:44,  1.91s/it]\n"
     ]
    },
    {
     "name": "stdout",
     "output_type": "stream",
     "text": [
      "angular all_dark_2 none\n"
     ]
    },
    {
     "name": "stderr",
     "output_type": "stream",
     "text": [
      "180it [05:41,  1.90s/it]"
     ]
    },
    {
     "name": "stdout",
     "output_type": "stream",
     "text": [
      "CPU times: user 3h 58min 4s, sys: 15min 18s, total: 4h 13min 23s\n",
      "Wall time: 4h 45min 44s\n"
     ]
    },
    {
     "name": "stderr",
     "output_type": "stream",
     "text": [
      "\n"
     ]
    }
   ],
   "source": [
    "%%time\n",
    "myLeverMapsDissociate = {}\n",
    "for rateType in [\"map\",\"angular\"]:\n",
    "    myLeverMapsDissociate[rateType]={}\n",
    "    for key,cond in zip(keys,conditions):\n",
    "        myLeverMapsDissociate[rateType][key] = {}\n",
    "        for rotType in [\"lever\",\"bridge\",\"none\"]:\n",
    "            print(rateType,key,rotType)\n",
    "            myLeverMapsDissociate[rateType][key][rotType] = np.concatenate([getLeverMaps(ses,sSes,cond,\n",
    "                                            maxDistance=18,rotationType = rotType, \n",
    "                                            invalidateSmallBridgeAngle=True, rateType=rateType,\n",
    "                                            stats=False) for ses,sSes in tqdm(zip(myProject.sessionList,sSessions))])"
   ]
  },
  {
   "cell_type": "code",
   "execution_count": 13,
   "id": "e1429ca9-2d71-4d0e-9a4c-1693fbdd75e2",
   "metadata": {},
   "outputs": [
    {
     "name": "stdout",
     "output_type": "stream",
     "text": [
      "saving: /adata/projects/autopi_inter//results/myLeverMapsDissociate_180.pickle\n",
      "CPU times: user 286 ms, sys: 1.83 s, total: 2.12 s\n",
      "Wall time: 11.1 s\n"
     ]
    }
   ],
   "source": [
    "%%time\n",
    "\n",
    "fn=myProject.dataPath+\"/results/myLeverMapsDissociate_180.pickle\"\n",
    "print(\"saving:\",fn)\n",
    "with open(fn, 'wb') as handle:\n",
    "    pickle.dump(myLeverMapsDissociate, handle)"
   ]
  },
  {
   "cell_type": "code",
   "execution_count": 9,
   "id": "5bf81122-fd41-420f-a325-0d6eecfccf63",
   "metadata": {},
   "outputs": [
    {
     "name": "stdout",
     "output_type": "stream",
     "text": [
      "angular all_light lever\n"
     ]
    },
    {
     "name": "stderr",
     "output_type": "stream",
     "text": [
      "180it [10:28,  3.49s/it]\n"
     ]
    },
    {
     "name": "stdout",
     "output_type": "stream",
     "text": [
      "angular all_light bridge\n"
     ]
    },
    {
     "name": "stderr",
     "output_type": "stream",
     "text": [
      "180it [10:10,  3.39s/it]\n"
     ]
    },
    {
     "name": "stdout",
     "output_type": "stream",
     "text": [
      "angular all_light none\n"
     ]
    },
    {
     "name": "stderr",
     "output_type": "stream",
     "text": [
      "180it [10:11,  3.40s/it]\n"
     ]
    },
    {
     "name": "stdout",
     "output_type": "stream",
     "text": [
      "angular all_dark lever\n"
     ]
    },
    {
     "name": "stderr",
     "output_type": "stream",
     "text": [
      "180it [10:47,  3.60s/it]\n"
     ]
    },
    {
     "name": "stdout",
     "output_type": "stream",
     "text": [
      "angular all_dark bridge\n"
     ]
    },
    {
     "name": "stderr",
     "output_type": "stream",
     "text": [
      "180it [12:00,  4.00s/it]\n"
     ]
    },
    {
     "name": "stdout",
     "output_type": "stream",
     "text": [
      "angular all_dark none\n"
     ]
    },
    {
     "name": "stderr",
     "output_type": "stream",
     "text": [
      "180it [10:48,  3.60s/it]\n"
     ]
    },
    {
     "name": "stdout",
     "output_type": "stream",
     "text": [
      "angular all_light_1 lever\n"
     ]
    },
    {
     "name": "stderr",
     "output_type": "stream",
     "text": [
      "180it [07:01,  2.34s/it]\n"
     ]
    },
    {
     "name": "stdout",
     "output_type": "stream",
     "text": [
      "angular all_light_1 bridge\n"
     ]
    },
    {
     "name": "stderr",
     "output_type": "stream",
     "text": [
      "180it [05:58,  1.99s/it]\n"
     ]
    },
    {
     "name": "stdout",
     "output_type": "stream",
     "text": [
      "angular all_light_1 none\n"
     ]
    },
    {
     "name": "stderr",
     "output_type": "stream",
     "text": [
      "180it [05:57,  1.99s/it]\n"
     ]
    },
    {
     "name": "stdout",
     "output_type": "stream",
     "text": [
      "angular all_light_2 lever\n"
     ]
    },
    {
     "name": "stderr",
     "output_type": "stream",
     "text": [
      "180it [05:59,  2.00s/it]\n"
     ]
    },
    {
     "name": "stdout",
     "output_type": "stream",
     "text": [
      "angular all_light_2 bridge\n"
     ]
    },
    {
     "name": "stderr",
     "output_type": "stream",
     "text": [
      "180it [05:58,  1.99s/it]\n"
     ]
    },
    {
     "name": "stdout",
     "output_type": "stream",
     "text": [
      "angular all_light_2 none\n"
     ]
    },
    {
     "name": "stderr",
     "output_type": "stream",
     "text": [
      "180it [05:58,  1.99s/it]\n"
     ]
    },
    {
     "name": "stdout",
     "output_type": "stream",
     "text": [
      "angular all_dark_1 lever\n"
     ]
    },
    {
     "name": "stderr",
     "output_type": "stream",
     "text": [
      "180it [05:44,  1.91s/it]\n"
     ]
    },
    {
     "name": "stdout",
     "output_type": "stream",
     "text": [
      "angular all_dark_1 bridge\n"
     ]
    },
    {
     "name": "stderr",
     "output_type": "stream",
     "text": [
      "180it [05:43,  1.91s/it]\n"
     ]
    },
    {
     "name": "stdout",
     "output_type": "stream",
     "text": [
      "angular all_dark_1 none\n"
     ]
    },
    {
     "name": "stderr",
     "output_type": "stream",
     "text": [
      "180it [05:42,  1.90s/it]\n"
     ]
    },
    {
     "name": "stdout",
     "output_type": "stream",
     "text": [
      "angular all_dark_2 lever\n"
     ]
    },
    {
     "name": "stderr",
     "output_type": "stream",
     "text": [
      "180it [05:45,  1.92s/it]\n"
     ]
    },
    {
     "name": "stdout",
     "output_type": "stream",
     "text": [
      "angular all_dark_2 bridge\n"
     ]
    },
    {
     "name": "stderr",
     "output_type": "stream",
     "text": [
      "180it [05:47,  1.93s/it]\n"
     ]
    },
    {
     "name": "stdout",
     "output_type": "stream",
     "text": [
      "angular all_dark_2 none\n"
     ]
    },
    {
     "name": "stderr",
     "output_type": "stream",
     "text": [
      "180it [05:45,  1.92s/it]"
     ]
    },
    {
     "name": "stdout",
     "output_type": "stream",
     "text": [
      "CPU times: user 1h 58min 5s, sys: 7min 20s, total: 2h 5min 25s\n",
      "Wall time: 2h 15min 51s\n"
     ]
    },
    {
     "name": "stderr",
     "output_type": "stream",
     "text": [
      "\n"
     ]
    }
   ],
   "source": [
    "%%time\n",
    "myLeverMapsDissociateStats = {}\n",
    "for rateType in [\"angular\"]:\n",
    "    myLeverMapsDissociateStats[rateType]={}\n",
    "    for key,cond in zip(keys,conditions):\n",
    "        myLeverMapsDissociateStats[rateType][key] = {}\n",
    "        for rotType in [\"lever\",\"bridge\",\"none\"]:\n",
    "            print(rateType,key,rotType)\n",
    "            myLeverMapsDissociateStats[rateType][key][rotType] = np.concatenate([getLeverMaps(ses,sSes,cond,\n",
    "                                                                            maxDistance=18,rotationType = rotType, \n",
    "                                                                            invalidateSmallBridgeAngle=True, rateType=rateType,\n",
    "                                                                            stats=True) for ses,sSes in tqdm(zip(myProject.sessionList,sSessions))])"
   ]
  },
  {
   "cell_type": "code",
   "execution_count": 11,
   "id": "121d2090-cf03-46da-bb13-a4289c71bf39",
   "metadata": {},
   "outputs": [
    {
     "name": "stdout",
     "output_type": "stream",
     "text": [
      "saving: /adata/projects/autopi_inter//results/myLeverMapsDissociateStats_180.pickle\n"
     ]
    }
   ],
   "source": [
    "fn=myProject.dataPath+\"/results/myLeverMapsDissociateStats_180.pickle\"\n",
    "print(\"saving:\",fn)\n",
    "with open(fn, 'wb') as handle:\n",
    "    pickle.dump(myLeverMapsDissociateStats, handle)"
   ]
  },
  {
   "cell_type": "code",
   "execution_count": null,
   "id": "ca330a09-ecd3-465a-aa9a-4a2f252cbe11",
   "metadata": {},
   "outputs": [],
   "source": []
  }
 ],
 "metadata": {
  "kernelspec": {
   "display_name": "DEEPLABCUT",
   "language": "python",
   "name": "deeplabcut"
  },
  "language_info": {
   "codemirror_mode": {
    "name": "ipython",
    "version": 3
   },
   "file_extension": ".py",
   "mimetype": "text/x-python",
   "name": "python",
   "nbconvert_exporter": "python",
   "pygments_lexer": "ipython3",
   "version": "3.8.13"
  },
  "widgets": {
   "application/vnd.jupyter.widget-state+json": {
    "state": {},
    "version_major": 2,
    "version_minor": 0
   }
  }
 },
 "nbformat": 4,
 "nbformat_minor": 5
}
