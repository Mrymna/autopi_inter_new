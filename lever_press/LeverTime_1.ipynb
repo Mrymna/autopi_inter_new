{
 "cells": [
  {
   "cell_type": "markdown",
   "id": "0dffe6f7-3992-44e8-8834-cc2079b223e6",
   "metadata": {},
   "source": [
    "## Only get the lever Press time and add that to the df that we already have for the trials"
   ]
  },
  {
   "cell_type": "code",
   "execution_count": 49,
   "id": "bdbbff64-b150-4b31-8958-f41042f7ec57",
   "metadata": {},
   "outputs": [
    {
     "name": "stdout",
     "output_type": "stream",
     "text": [
      "creating myProject, an autopipy.project object\n",
      "Project name: autopi_inter\n",
      "dataPath: /adata/projects/autopi_inter/\n",
      "dlcModelPath: /adata/models\n",
      "Reading /adata/projects/autopi_inter//sessionList\n",
      "We have 180 testing sessions in the list\n",
      "spikeA.Kilosort_session objects are in sSessions\n"
     ]
    }
   ],
   "source": [
    "%reload_ext autoreload\n",
    "#%autoreload 2\n",
    "%matplotlib inline\n",
    "%run ../setup_project.py\n",
    "%run ../generic_plot_functions.py\n",
    "import os.path\n",
    "from spikeA.Dat_file_reader import Dat_file_reader\n",
    "from scipy.signal import welch\n",
    "from scipy.ndimage import gaussian_filter1d\n",
    "import numpy as np\n",
    "from scipy.signal import find_peaks, peak_widths, peak_prominences\n",
    "from scipy import integrate\n",
    "from scipy.ndimage import gaussian_filter1d \n",
    "import os\n",
    "\n",
    "projectName, dataPath, dlcModelPath, myProject, sSessions = setup_project_session_lists(projectName=\"autopi_inter\",\n",
    "                                                                dataPath=\"/adata/projects/autopi_inter/\",dlcModelPath=\"/adata/models\")\n"
   ]
  },
  {
   "cell_type": "code",
   "execution_count": 120,
   "id": "5ae216d2-e822-45f6-a37c-cc223febaac6",
   "metadata": {},
   "outputs": [
    {
     "name": "stdout",
     "output_type": "stream",
     "text": [
      "Loading Animal_pose and Spike_train, sSes.ap and sSes.cg\n",
      "Will load .pose.npy\n"
     ]
    },
    {
     "name": "stderr",
     "output_type": "stream",
     "text": [
      "100%|█████████████████████████████████████████████████████████████████████████████████████████████████████████████████████████████████████████████████████████| 180/180 [04:32<00:00,  1.52s/it]\n"
     ]
    },
    {
     "name": "stdout",
     "output_type": "stream",
     "text": [
      "Loading ses.trial_table_simple as ses.trials\n",
      "Create condition intervals in ses.intervalDict\n"
     ]
    }
   ],
   "source": [
    "\n",
    "prepareSessionsForSpatialAnalysisProject(sSessions,myProject.sessionList) ### sSeslist >>>> sSessions"
   ]
  },
  {
   "cell_type": "code",
   "execution_count": 137,
   "id": "8d714528-b9e8-4692-980e-afc990eff800",
   "metadata": {},
   "outputs": [],
   "source": [
    "def get_leverPress_time(ses, sSes):\n",
    "    ses.extractTrialFeatures()\n",
    "    \n",
    "    lever_times = [(trial.leverPress['time'].to_list()[0], trial.name)\n",
    "                   for trial in ses.trialList\n",
    "                   if isinstance(trial.leverPress, pd.DataFrame) and len(trial.leverPress['time']) != 0]\n",
    "    \n",
    "    levertimedf = pd.DataFrame(lever_times, columns=['levertimeRos', 'name'])\n",
    "    \n",
    "    # Calculate LeverPressinRestime for each row\n",
    "    leverPressTime = levertimedf['levertimeRos'].values\n",
    "    resRosTime = np.vstack((sSes.ap.pose[:, 0], sSes.ap.pose[:, -1])).T\n",
    "    levertimedf['levertimeRes'] = RosToResTime(rosTimes=leverPressTime, resRosTime=resRosTime)\n",
    "    \n",
    "    return levertimedf\n"
   ]
  },
  {
   "cell_type": "code",
   "execution_count": 138,
   "id": "b997d4b1-a24c-4b9f-b71e-a60a77a7ecbd",
   "metadata": {},
   "outputs": [],
   "source": [
    "#LeverPressinRestime= RosToResTime(rosTimes=leverPressTime, resRosTime=np.vstack((sSes.ap.pose[:,0],sSes.ap.pose[:,-1])).T)"
   ]
  },
  {
   "cell_type": "code",
   "execution_count": 139,
   "id": "03d231b4-cd2b-4b0a-81ad-2b1b1a8d099c",
   "metadata": {},
   "outputs": [],
   "source": [
    "import warnings\n",
    "\n",
    "warnings.simplefilter(action='ignore', category=FutureWarning)\n",
    "warnings.simplefilter(action='ignore', category=RuntimeWarning)\n"
   ]
  },
  {
   "cell_type": "code",
   "execution_count": null,
   "id": "52e8802d-3a82-41c3-85dd-85e5b2fb4856",
   "metadata": {},
   "outputs": [],
   "source": [
    "ses= myProject.sessionList[4]\n",
    "levertimedf= get_leverPress_time(ses)"
   ]
  },
  {
   "cell_type": "code",
   "execution_count": null,
   "id": "6bf5cbff-332e-4950-8585-39ae4fc8276e",
   "metadata": {},
   "outputs": [],
   "source": [
    "%%time\n",
    "LeverPress=[]\n",
    "\n",
    "for ses,sSes in tqdm(zip(myProject.sessionList, sSessions)):\n",
    "    \n",
    "    df= get_leverPress_time(ses, sSes)\n",
    "    LeverPress.append(df)\n",
    "    \n",
    "leverTime = pd.concat(LeverPress, ignore_index=True)"
   ]
  },
  {
   "cell_type": "code",
   "execution_count": 148,
   "id": "4740e800-c141-49c4-b2d8-cc293be9c474",
   "metadata": {},
   "outputs": [
    {
     "data": {
      "text/plain": [
       "(20661, 180)"
      ]
     },
     "execution_count": 148,
     "metadata": {},
     "output_type": "execute_result"
    }
   ],
   "source": [
    "len(leverTime),len(sSessions)"
   ]
  },
  {
   "cell_type": "code",
   "execution_count": 150,
   "id": "6ec71401-2221-4938-ae3d-7670bf65c2ba",
   "metadata": {},
   "outputs": [
    {
     "data": {
      "text/plain": [
       "(20661, 3)"
      ]
     },
     "execution_count": 150,
     "metadata": {},
     "output_type": "execute_result"
    }
   ],
   "source": [
    "leverTime.shape"
   ]
  },
  {
   "cell_type": "code",
   "execution_count": 161,
   "id": "23097129-fc6e-4748-bbea-30047938481c",
   "metadata": {},
   "outputs": [],
   "source": [
    "\n",
    "fn ='leverTimes.csv'\n",
    "# Save the DataFrame to a CSV file\n",
    "leverTime.to_csv(fn, index=False)"
   ]
  },
  {
   "cell_type": "code",
   "execution_count": 152,
   "id": "5aa1e9b6-350b-4d10-874f-9bbb4e417a9a",
   "metadata": {},
   "outputs": [],
   "source": [
    "fn ='leverTimes.cv'\n",
    "leverTime= pd.read_csv(fn)"
   ]
  },
  {
   "cell_type": "code",
   "execution_count": 153,
   "id": "892151e9-6c23-4e90-8173-dbcb740ec710",
   "metadata": {},
   "outputs": [
    {
     "data": {
      "text/html": [
       "<div>\n",
       "<style scoped>\n",
       "    .dataframe tbody tr th:only-of-type {\n",
       "        vertical-align: middle;\n",
       "    }\n",
       "\n",
       "    .dataframe tbody tr th {\n",
       "        vertical-align: top;\n",
       "    }\n",
       "\n",
       "    .dataframe thead th {\n",
       "        text-align: right;\n",
       "    }\n",
       "</style>\n",
       "<table border=\"1\" class=\"dataframe\">\n",
       "  <thead>\n",
       "    <tr style=\"text-align: right;\">\n",
       "      <th></th>\n",
       "      <th>levertimeRos</th>\n",
       "      <th>name</th>\n",
       "      <th>levertimeRes</th>\n",
       "    </tr>\n",
       "  </thead>\n",
       "  <tbody>\n",
       "    <tr>\n",
       "      <th>0</th>\n",
       "      <td>1.638958e+09</td>\n",
       "      <td>mn8578-08122021-0110_1</td>\n",
       "      <td>3042.968709</td>\n",
       "    </tr>\n",
       "    <tr>\n",
       "      <th>1</th>\n",
       "      <td>1.638958e+09</td>\n",
       "      <td>mn8578-08122021-0110_2</td>\n",
       "      <td>3127.853149</td>\n",
       "    </tr>\n",
       "    <tr>\n",
       "      <th>2</th>\n",
       "      <td>1.638958e+09</td>\n",
       "      <td>mn8578-08122021-0110_3</td>\n",
       "      <td>3169.631187</td>\n",
       "    </tr>\n",
       "    <tr>\n",
       "      <th>3</th>\n",
       "      <td>1.638958e+09</td>\n",
       "      <td>mn8578-08122021-0110_4</td>\n",
       "      <td>3253.638913</td>\n",
       "    </tr>\n",
       "    <tr>\n",
       "      <th>4</th>\n",
       "      <td>1.638958e+09</td>\n",
       "      <td>mn8578-08122021-0110_5</td>\n",
       "      <td>3345.494984</td>\n",
       "    </tr>\n",
       "    <tr>\n",
       "      <th>...</th>\n",
       "      <td>...</td>\n",
       "      <td>...</td>\n",
       "      <td>...</td>\n",
       "    </tr>\n",
       "    <tr>\n",
       "      <th>93</th>\n",
       "      <td>1.638964e+09</td>\n",
       "      <td>mn8578-08122021-0110_94</td>\n",
       "      <td>9028.580759</td>\n",
       "    </tr>\n",
       "    <tr>\n",
       "      <th>94</th>\n",
       "      <td>1.638964e+09</td>\n",
       "      <td>mn8578-08122021-0110_95</td>\n",
       "      <td>9363.300316</td>\n",
       "    </tr>\n",
       "    <tr>\n",
       "      <th>95</th>\n",
       "      <td>1.638965e+09</td>\n",
       "      <td>mn8578-08122021-0110_96</td>\n",
       "      <td>9919.199525</td>\n",
       "    </tr>\n",
       "    <tr>\n",
       "      <th>96</th>\n",
       "      <td>1.638965e+09</td>\n",
       "      <td>mn8578-08122021-0110_97</td>\n",
       "      <td>9970.495351</td>\n",
       "    </tr>\n",
       "    <tr>\n",
       "      <th>97</th>\n",
       "      <td>1.638965e+09</td>\n",
       "      <td>mn8578-08122021-0110_98</td>\n",
       "      <td>10025.970440</td>\n",
       "    </tr>\n",
       "  </tbody>\n",
       "</table>\n",
       "<p>98 rows × 3 columns</p>\n",
       "</div>"
      ],
      "text/plain": [
       "    levertimeRos                     name  levertimeRes\n",
       "0   1.638958e+09   mn8578-08122021-0110_1   3042.968709\n",
       "1   1.638958e+09   mn8578-08122021-0110_2   3127.853149\n",
       "2   1.638958e+09   mn8578-08122021-0110_3   3169.631187\n",
       "3   1.638958e+09   mn8578-08122021-0110_4   3253.638913\n",
       "4   1.638958e+09   mn8578-08122021-0110_5   3345.494984\n",
       "..           ...                      ...           ...\n",
       "93  1.638964e+09  mn8578-08122021-0110_94   9028.580759\n",
       "94  1.638964e+09  mn8578-08122021-0110_95   9363.300316\n",
       "95  1.638965e+09  mn8578-08122021-0110_96   9919.199525\n",
       "96  1.638965e+09  mn8578-08122021-0110_97   9970.495351\n",
       "97  1.638965e+09  mn8578-08122021-0110_98  10025.970440\n",
       "\n",
       "[98 rows x 3 columns]"
      ]
     },
     "execution_count": 153,
     "metadata": {},
     "output_type": "execute_result"
    }
   ],
   "source": [
    "levertimedf"
   ]
  },
  {
   "cell_type": "code",
   "execution_count": 154,
   "id": "c106afca-7a5d-41e4-94bc-0e4687cb3dd1",
   "metadata": {},
   "outputs": [],
   "source": [
    "res = pd.read_csv('behavior_180_EastReferenceQuadrant.csv')"
   ]
  },
  {
   "cell_type": "code",
   "execution_count": 155,
   "id": "9d9960c7-bb3c-42fd-b539-142b07d898be",
   "metadata": {},
   "outputs": [
    {
     "data": {
      "text/html": [
       "<div>\n",
       "<style scoped>\n",
       "    .dataframe tbody tr th:only-of-type {\n",
       "        vertical-align: middle;\n",
       "    }\n",
       "\n",
       "    .dataframe tbody tr th {\n",
       "        vertical-align: top;\n",
       "    }\n",
       "\n",
       "    .dataframe thead th {\n",
       "        text-align: right;\n",
       "    }\n",
       "</style>\n",
       "<table border=\"1\" class=\"dataframe\">\n",
       "  <thead>\n",
       "    <tr style=\"text-align: right;\">\n",
       "      <th></th>\n",
       "      <th>sessionName</th>\n",
       "      <th>name</th>\n",
       "      <th>valid</th>\n",
       "      <th>trialNo</th>\n",
       "      <th>startTime</th>\n",
       "      <th>endTime</th>\n",
       "      <th>startTimeWS</th>\n",
       "      <th>endTimeWS</th>\n",
       "      <th>duration</th>\n",
       "      <th>light</th>\n",
       "      <th>...</th>\n",
       "      <th>startPositionHoming_x</th>\n",
       "      <th>startPositionHoming_y</th>\n",
       "      <th>homingAngleAtPeriphery</th>\n",
       "      <th>homingErrorAtPeriphery</th>\n",
       "      <th>homingErrorAtPeripheryLever</th>\n",
       "      <th>homingErrorAtPeripheryLeverAbsolute</th>\n",
       "      <th>leverX</th>\n",
       "      <th>leverY</th>\n",
       "      <th>subject</th>\n",
       "      <th>date</th>\n",
       "    </tr>\n",
       "  </thead>\n",
       "  <tbody>\n",
       "    <tr>\n",
       "      <th>0</th>\n",
       "      <td>mn8578-30112021-0107</td>\n",
       "      <td>mn8578-30112021-0107_1</td>\n",
       "      <td>True</td>\n",
       "      <td>1</td>\n",
       "      <td>1.638266e+09</td>\n",
       "      <td>1.638266e+09</td>\n",
       "      <td>3.330952</td>\n",
       "      <td>43.437132</td>\n",
       "      <td>40.106180</td>\n",
       "      <td>light</td>\n",
       "      <td>...</td>\n",
       "      <td>-2.366743</td>\n",
       "      <td>-11.459763</td>\n",
       "      <td>-1.610825</td>\n",
       "      <td>-0.083860</td>\n",
       "      <td>-0.083781</td>\n",
       "      <td>0.083781</td>\n",
       "      <td>1.643595</td>\n",
       "      <td>1.114050</td>\n",
       "      <td>mn8578</td>\n",
       "      <td>2021-11-30 01:07:00</td>\n",
       "    </tr>\n",
       "    <tr>\n",
       "      <th>1</th>\n",
       "      <td>mn8578-30112021-0107</td>\n",
       "      <td>mn8578-30112021-0107_2</td>\n",
       "      <td>True</td>\n",
       "      <td>2</td>\n",
       "      <td>1.638266e+09</td>\n",
       "      <td>1.638266e+09</td>\n",
       "      <td>51.433192</td>\n",
       "      <td>68.696401</td>\n",
       "      <td>17.263209</td>\n",
       "      <td>light</td>\n",
       "      <td>...</td>\n",
       "      <td>-3.288517</td>\n",
       "      <td>-14.331650</td>\n",
       "      <td>-1.633013</td>\n",
       "      <td>-0.106048</td>\n",
       "      <td>-0.114553</td>\n",
       "      <td>0.114553</td>\n",
       "      <td>1.881237</td>\n",
       "      <td>-2.031261</td>\n",
       "      <td>mn8578</td>\n",
       "      <td>2021-11-30 01:07:00</td>\n",
       "    </tr>\n",
       "    <tr>\n",
       "      <th>2</th>\n",
       "      <td>mn8578-30112021-0107</td>\n",
       "      <td>mn8578-30112021-0107_3</td>\n",
       "      <td>True</td>\n",
       "      <td>3</td>\n",
       "      <td>1.638266e+09</td>\n",
       "      <td>1.638266e+09</td>\n",
       "      <td>73.689115</td>\n",
       "      <td>105.833658</td>\n",
       "      <td>32.144543</td>\n",
       "      <td>light</td>\n",
       "      <td>...</td>\n",
       "      <td>-3.894192</td>\n",
       "      <td>-13.361742</td>\n",
       "      <td>-1.578244</td>\n",
       "      <td>-0.051279</td>\n",
       "      <td>-0.057984</td>\n",
       "      <td>0.057984</td>\n",
       "      <td>1.876152</td>\n",
       "      <td>-2.032935</td>\n",
       "      <td>mn8578</td>\n",
       "      <td>2021-11-30 01:07:00</td>\n",
       "    </tr>\n",
       "    <tr>\n",
       "      <th>3</th>\n",
       "      <td>mn8578-30112021-0107</td>\n",
       "      <td>mn8578-30112021-0107_4</td>\n",
       "      <td>True</td>\n",
       "      <td>4</td>\n",
       "      <td>1.638266e+09</td>\n",
       "      <td>1.638266e+09</td>\n",
       "      <td>118.842181</td>\n",
       "      <td>153.795247</td>\n",
       "      <td>34.953066</td>\n",
       "      <td>light</td>\n",
       "      <td>...</td>\n",
       "      <td>5.344472</td>\n",
       "      <td>-9.157124</td>\n",
       "      <td>-1.565123</td>\n",
       "      <td>-0.038158</td>\n",
       "      <td>-0.034961</td>\n",
       "      <td>0.034961</td>\n",
       "      <td>-1.429608</td>\n",
       "      <td>1.026417</td>\n",
       "      <td>mn8578</td>\n",
       "      <td>2021-11-30 01:07:00</td>\n",
       "    </tr>\n",
       "    <tr>\n",
       "      <th>4</th>\n",
       "      <td>mn8578-30112021-0107</td>\n",
       "      <td>mn8578-30112021-0107_5</td>\n",
       "      <td>True</td>\n",
       "      <td>5</td>\n",
       "      <td>1.638266e+09</td>\n",
       "      <td>1.638266e+09</td>\n",
       "      <td>175.030779</td>\n",
       "      <td>214.734324</td>\n",
       "      <td>39.703545</td>\n",
       "      <td>light</td>\n",
       "      <td>...</td>\n",
       "      <td>-23.345750</td>\n",
       "      <td>-12.715746</td>\n",
       "      <td>-1.754851</td>\n",
       "      <td>-0.227887</td>\n",
       "      <td>-0.145241</td>\n",
       "      <td>0.145241</td>\n",
       "      <td>-20.592588</td>\n",
       "      <td>1.260800</td>\n",
       "      <td>mn8578</td>\n",
       "      <td>2021-11-30 01:07:00</td>\n",
       "    </tr>\n",
       "    <tr>\n",
       "      <th>...</th>\n",
       "      <td>...</td>\n",
       "      <td>...</td>\n",
       "      <td>...</td>\n",
       "      <td>...</td>\n",
       "      <td>...</td>\n",
       "      <td>...</td>\n",
       "      <td>...</td>\n",
       "      <td>...</td>\n",
       "      <td>...</td>\n",
       "      <td>...</td>\n",
       "      <td>...</td>\n",
       "      <td>...</td>\n",
       "      <td>...</td>\n",
       "      <td>...</td>\n",
       "      <td>...</td>\n",
       "      <td>...</td>\n",
       "      <td>...</td>\n",
       "      <td>...</td>\n",
       "      <td>...</td>\n",
       "      <td>...</td>\n",
       "      <td>...</td>\n",
       "    </tr>\n",
       "    <tr>\n",
       "      <th>20697</th>\n",
       "      <td>jp499-25052023-0108</td>\n",
       "      <td>jp499-25052023-0108_111</td>\n",
       "      <td>True</td>\n",
       "      <td>111</td>\n",
       "      <td>1.685029e+09</td>\n",
       "      <td>1.685029e+09</td>\n",
       "      <td>6426.638292</td>\n",
       "      <td>6460.432821</td>\n",
       "      <td>33.794529</td>\n",
       "      <td>light</td>\n",
       "      <td>...</td>\n",
       "      <td>15.434140</td>\n",
       "      <td>-34.049265</td>\n",
       "      <td>-0.844326</td>\n",
       "      <td>0.802898</td>\n",
       "      <td>1.429400</td>\n",
       "      <td>1.429400</td>\n",
       "      <td>20.593755</td>\n",
       "      <td>-20.931358</td>\n",
       "      <td>jp499</td>\n",
       "      <td>2023-05-25 01:08:00</td>\n",
       "    </tr>\n",
       "    <tr>\n",
       "      <th>20698</th>\n",
       "      <td>jp499-25052023-0108</td>\n",
       "      <td>jp499-25052023-0108_112</td>\n",
       "      <td>True</td>\n",
       "      <td>112</td>\n",
       "      <td>1.685029e+09</td>\n",
       "      <td>1.685029e+09</td>\n",
       "      <td>6478.443990</td>\n",
       "      <td>6528.834271</td>\n",
       "      <td>50.390282</td>\n",
       "      <td>dark</td>\n",
       "      <td>...</td>\n",
       "      <td>6.785348</td>\n",
       "      <td>16.395909</td>\n",
       "      <td>1.745148</td>\n",
       "      <td>-2.890813</td>\n",
       "      <td>-2.601360</td>\n",
       "      <td>2.601360</td>\n",
       "      <td>-1.680767</td>\n",
       "      <td>30.069567</td>\n",
       "      <td>jp499</td>\n",
       "      <td>2023-05-25 01:08:00</td>\n",
       "    </tr>\n",
       "    <tr>\n",
       "      <th>20699</th>\n",
       "      <td>jp499-25052023-0108</td>\n",
       "      <td>jp499-25052023-0108_113</td>\n",
       "      <td>True</td>\n",
       "      <td>113</td>\n",
       "      <td>1.685029e+09</td>\n",
       "      <td>1.685029e+09</td>\n",
       "      <td>6555.648851</td>\n",
       "      <td>6620.684408</td>\n",
       "      <td>65.035557</td>\n",
       "      <td>light</td>\n",
       "      <td>...</td>\n",
       "      <td>-2.724584</td>\n",
       "      <td>-29.429458</td>\n",
       "      <td>-1.619052</td>\n",
       "      <td>0.028171</td>\n",
       "      <td>0.100612</td>\n",
       "      <td>0.100612</td>\n",
       "      <td>-14.415291</td>\n",
       "      <td>-18.097031</td>\n",
       "      <td>jp499</td>\n",
       "      <td>2023-05-25 01:08:00</td>\n",
       "    </tr>\n",
       "    <tr>\n",
       "      <th>20700</th>\n",
       "      <td>jp499-25052023-0108</td>\n",
       "      <td>jp499-25052023-0108_114</td>\n",
       "      <td>True</td>\n",
       "      <td>114</td>\n",
       "      <td>1.685029e+09</td>\n",
       "      <td>1.685029e+09</td>\n",
       "      <td>6625.678306</td>\n",
       "      <td>6648.324384</td>\n",
       "      <td>22.646078</td>\n",
       "      <td>dark</td>\n",
       "      <td>...</td>\n",
       "      <td>-19.918364</td>\n",
       "      <td>-30.822634</td>\n",
       "      <td>-2.124231</td>\n",
       "      <td>-0.477008</td>\n",
       "      <td>-0.836805</td>\n",
       "      <td>0.836805</td>\n",
       "      <td>-14.309954</td>\n",
       "      <td>-17.895829</td>\n",
       "      <td>jp499</td>\n",
       "      <td>2023-05-25 01:08:00</td>\n",
       "    </tr>\n",
       "    <tr>\n",
       "      <th>20701</th>\n",
       "      <td>jp499-25052023-0108</td>\n",
       "      <td>jp499-25052023-0108_115</td>\n",
       "      <td>False</td>\n",
       "      <td>115</td>\n",
       "      <td>1.685029e+09</td>\n",
       "      <td>1.685029e+09</td>\n",
       "      <td>6654.323008</td>\n",
       "      <td>7211.831893</td>\n",
       "      <td>557.508885</td>\n",
       "      <td>light</td>\n",
       "      <td>...</td>\n",
       "      <td>NaN</td>\n",
       "      <td>NaN</td>\n",
       "      <td>NaN</td>\n",
       "      <td>NaN</td>\n",
       "      <td>NaN</td>\n",
       "      <td>NaN</td>\n",
       "      <td>-23.001416</td>\n",
       "      <td>-2.744699</td>\n",
       "      <td>jp499</td>\n",
       "      <td>2023-05-25 01:08:00</td>\n",
       "    </tr>\n",
       "  </tbody>\n",
       "</table>\n",
       "<p>20702 rows × 30 columns</p>\n",
       "</div>"
      ],
      "text/plain": [
       "                sessionName                     name  valid  trialNo  \\\n",
       "0      mn8578-30112021-0107   mn8578-30112021-0107_1   True        1   \n",
       "1      mn8578-30112021-0107   mn8578-30112021-0107_2   True        2   \n",
       "2      mn8578-30112021-0107   mn8578-30112021-0107_3   True        3   \n",
       "3      mn8578-30112021-0107   mn8578-30112021-0107_4   True        4   \n",
       "4      mn8578-30112021-0107   mn8578-30112021-0107_5   True        5   \n",
       "...                     ...                      ...    ...      ...   \n",
       "20697   jp499-25052023-0108  jp499-25052023-0108_111   True      111   \n",
       "20698   jp499-25052023-0108  jp499-25052023-0108_112   True      112   \n",
       "20699   jp499-25052023-0108  jp499-25052023-0108_113   True      113   \n",
       "20700   jp499-25052023-0108  jp499-25052023-0108_114   True      114   \n",
       "20701   jp499-25052023-0108  jp499-25052023-0108_115  False      115   \n",
       "\n",
       "          startTime       endTime  startTimeWS    endTimeWS    duration  \\\n",
       "0      1.638266e+09  1.638266e+09     3.330952    43.437132   40.106180   \n",
       "1      1.638266e+09  1.638266e+09    51.433192    68.696401   17.263209   \n",
       "2      1.638266e+09  1.638266e+09    73.689115   105.833658   32.144543   \n",
       "3      1.638266e+09  1.638266e+09   118.842181   153.795247   34.953066   \n",
       "4      1.638266e+09  1.638266e+09   175.030779   214.734324   39.703545   \n",
       "...             ...           ...          ...          ...         ...   \n",
       "20697  1.685029e+09  1.685029e+09  6426.638292  6460.432821   33.794529   \n",
       "20698  1.685029e+09  1.685029e+09  6478.443990  6528.834271   50.390282   \n",
       "20699  1.685029e+09  1.685029e+09  6555.648851  6620.684408   65.035557   \n",
       "20700  1.685029e+09  1.685029e+09  6625.678306  6648.324384   22.646078   \n",
       "20701  1.685029e+09  1.685029e+09  6654.323008  7211.831893  557.508885   \n",
       "\n",
       "       light  ...  startPositionHoming_x  startPositionHoming_y  \\\n",
       "0      light  ...              -2.366743             -11.459763   \n",
       "1      light  ...              -3.288517             -14.331650   \n",
       "2      light  ...              -3.894192             -13.361742   \n",
       "3      light  ...               5.344472              -9.157124   \n",
       "4      light  ...             -23.345750             -12.715746   \n",
       "...      ...  ...                    ...                    ...   \n",
       "20697  light  ...              15.434140             -34.049265   \n",
       "20698   dark  ...               6.785348              16.395909   \n",
       "20699  light  ...              -2.724584             -29.429458   \n",
       "20700   dark  ...             -19.918364             -30.822634   \n",
       "20701  light  ...                    NaN                    NaN   \n",
       "\n",
       "       homingAngleAtPeriphery  homingErrorAtPeriphery  \\\n",
       "0                   -1.610825               -0.083860   \n",
       "1                   -1.633013               -0.106048   \n",
       "2                   -1.578244               -0.051279   \n",
       "3                   -1.565123               -0.038158   \n",
       "4                   -1.754851               -0.227887   \n",
       "...                       ...                     ...   \n",
       "20697               -0.844326                0.802898   \n",
       "20698                1.745148               -2.890813   \n",
       "20699               -1.619052                0.028171   \n",
       "20700               -2.124231               -0.477008   \n",
       "20701                     NaN                     NaN   \n",
       "\n",
       "       homingErrorAtPeripheryLever  homingErrorAtPeripheryLeverAbsolute  \\\n",
       "0                        -0.083781                             0.083781   \n",
       "1                        -0.114553                             0.114553   \n",
       "2                        -0.057984                             0.057984   \n",
       "3                        -0.034961                             0.034961   \n",
       "4                        -0.145241                             0.145241   \n",
       "...                            ...                                  ...   \n",
       "20697                     1.429400                             1.429400   \n",
       "20698                    -2.601360                             2.601360   \n",
       "20699                     0.100612                             0.100612   \n",
       "20700                    -0.836805                             0.836805   \n",
       "20701                          NaN                                  NaN   \n",
       "\n",
       "          leverX     leverY  subject                 date  \n",
       "0       1.643595   1.114050   mn8578  2021-11-30 01:07:00  \n",
       "1       1.881237  -2.031261   mn8578  2021-11-30 01:07:00  \n",
       "2       1.876152  -2.032935   mn8578  2021-11-30 01:07:00  \n",
       "3      -1.429608   1.026417   mn8578  2021-11-30 01:07:00  \n",
       "4     -20.592588   1.260800   mn8578  2021-11-30 01:07:00  \n",
       "...          ...        ...      ...                  ...  \n",
       "20697  20.593755 -20.931358    jp499  2023-05-25 01:08:00  \n",
       "20698  -1.680767  30.069567    jp499  2023-05-25 01:08:00  \n",
       "20699 -14.415291 -18.097031    jp499  2023-05-25 01:08:00  \n",
       "20700 -14.309954 -17.895829    jp499  2023-05-25 01:08:00  \n",
       "20701 -23.001416  -2.744699    jp499  2023-05-25 01:08:00  \n",
       "\n",
       "[20702 rows x 30 columns]"
      ]
     },
     "execution_count": 155,
     "metadata": {},
     "output_type": "execute_result"
    }
   ],
   "source": [
    "res"
   ]
  },
  {
   "cell_type": "code",
   "execution_count": 89,
   "id": "03276139-8b50-4e2f-8446-83827230f605",
   "metadata": {},
   "outputs": [
    {
     "data": {
      "text/plain": [
       "((20661, 2), (20702, 30))"
      ]
     },
     "execution_count": 89,
     "metadata": {},
     "output_type": "execute_result"
    }
   ],
   "source": [
    "leverTime.shape, res.shape"
   ]
  },
  {
   "cell_type": "code",
   "execution_count": 90,
   "id": "c783a5dc-93fa-449d-89ae-d26812118578",
   "metadata": {},
   "outputs": [
    {
     "data": {
      "text/plain": [
       "Index(['levertimeRos', 'trial'], dtype='object')"
      ]
     },
     "execution_count": 90,
     "metadata": {},
     "output_type": "execute_result"
    }
   ],
   "source": [
    "leverTime.keys()"
   ]
  },
  {
   "cell_type": "code",
   "execution_count": 75,
   "id": "136fb0b9-2636-4fcc-8730-f0e5cb0af217",
   "metadata": {},
   "outputs": [
    {
     "data": {
      "text/plain": [
       "Index(['sessionName', 'name', 'valid', 'trialNo', 'startTime', 'endTime',\n",
       "       'startTimeWS', 'endTimeWS', 'duration', 'light', 'arenaRadiusCm',\n",
       "       'nLeverPresses', 'nJourneys', 'searchLength', 'searchDuration',\n",
       "       'searchMeanSpeed', 'searchMedianMVDeviationToTarget',\n",
       "       'searchLastTargetToAnimalAngle', 'medianMVDeviationRoomReference',\n",
       "       'headingError', 'startPositionHoming_x', 'startPositionHoming_y',\n",
       "       'homingAngleAtPeriphery', 'homingErrorAtPeriphery',\n",
       "       'homingErrorAtPeripheryLever', 'homingErrorAtPeripheryLeverAbsolute',\n",
       "       'leverX', 'leverY', 'subject', 'date'],\n",
       "      dtype='object')"
      ]
     },
     "execution_count": 75,
     "metadata": {},
     "output_type": "execute_result"
    }
   ],
   "source": [
    "res.keys()"
   ]
  },
  {
   "cell_type": "code",
   "execution_count": 101,
   "id": "e0eafbbf-7038-4956-a89c-beaef42a7225",
   "metadata": {},
   "outputs": [],
   "source": []
  },
  {
   "cell_type": "code",
   "execution_count": 102,
   "id": "169cb929-9eca-4248-a042-3ec5d49f1e95",
   "metadata": {},
   "outputs": [
    {
     "data": {
      "text/html": [
       "<div>\n",
       "<style scoped>\n",
       "    .dataframe tbody tr th:only-of-type {\n",
       "        vertical-align: middle;\n",
       "    }\n",
       "\n",
       "    .dataframe tbody tr th {\n",
       "        vertical-align: top;\n",
       "    }\n",
       "\n",
       "    .dataframe thead th {\n",
       "        text-align: right;\n",
       "    }\n",
       "</style>\n",
       "<table border=\"1\" class=\"dataframe\">\n",
       "  <thead>\n",
       "    <tr style=\"text-align: right;\">\n",
       "      <th></th>\n",
       "      <th>levertimeRos</th>\n",
       "      <th>name</th>\n",
       "    </tr>\n",
       "  </thead>\n",
       "  <tbody>\n",
       "    <tr>\n",
       "      <th>0</th>\n",
       "      <td>1.638266e+09</td>\n",
       "      <td>mn8578-30112021-0107_1</td>\n",
       "    </tr>\n",
       "    <tr>\n",
       "      <th>1</th>\n",
       "      <td>1.638266e+09</td>\n",
       "      <td>mn8578-30112021-0107_2</td>\n",
       "    </tr>\n",
       "    <tr>\n",
       "      <th>2</th>\n",
       "      <td>1.638266e+09</td>\n",
       "      <td>mn8578-30112021-0107_3</td>\n",
       "    </tr>\n",
       "    <tr>\n",
       "      <th>3</th>\n",
       "      <td>1.638266e+09</td>\n",
       "      <td>mn8578-30112021-0107_4</td>\n",
       "    </tr>\n",
       "    <tr>\n",
       "      <th>4</th>\n",
       "      <td>1.638266e+09</td>\n",
       "      <td>mn8578-30112021-0107_5</td>\n",
       "    </tr>\n",
       "    <tr>\n",
       "      <th>...</th>\n",
       "      <td>...</td>\n",
       "      <td>...</td>\n",
       "    </tr>\n",
       "    <tr>\n",
       "      <th>20656</th>\n",
       "      <td>1.685029e+09</td>\n",
       "      <td>jp499-25052023-0108_110</td>\n",
       "    </tr>\n",
       "    <tr>\n",
       "      <th>20657</th>\n",
       "      <td>1.685029e+09</td>\n",
       "      <td>jp499-25052023-0108_111</td>\n",
       "    </tr>\n",
       "    <tr>\n",
       "      <th>20658</th>\n",
       "      <td>1.685029e+09</td>\n",
       "      <td>jp499-25052023-0108_112</td>\n",
       "    </tr>\n",
       "    <tr>\n",
       "      <th>20659</th>\n",
       "      <td>1.685029e+09</td>\n",
       "      <td>jp499-25052023-0108_113</td>\n",
       "    </tr>\n",
       "    <tr>\n",
       "      <th>20660</th>\n",
       "      <td>1.685029e+09</td>\n",
       "      <td>jp499-25052023-0108_114</td>\n",
       "    </tr>\n",
       "  </tbody>\n",
       "</table>\n",
       "<p>20661 rows × 2 columns</p>\n",
       "</div>"
      ],
      "text/plain": [
       "       levertimeRos                     name\n",
       "0      1.638266e+09   mn8578-30112021-0107_1\n",
       "1      1.638266e+09   mn8578-30112021-0107_2\n",
       "2      1.638266e+09   mn8578-30112021-0107_3\n",
       "3      1.638266e+09   mn8578-30112021-0107_4\n",
       "4      1.638266e+09   mn8578-30112021-0107_5\n",
       "...             ...                      ...\n",
       "20656  1.685029e+09  jp499-25052023-0108_110\n",
       "20657  1.685029e+09  jp499-25052023-0108_111\n",
       "20658  1.685029e+09  jp499-25052023-0108_112\n",
       "20659  1.685029e+09  jp499-25052023-0108_113\n",
       "20660  1.685029e+09  jp499-25052023-0108_114\n",
       "\n",
       "[20661 rows x 2 columns]"
      ]
     },
     "execution_count": 102,
     "metadata": {},
     "output_type": "execute_result"
    }
   ],
   "source": [
    "leverTime"
   ]
  },
  {
   "cell_type": "code",
   "execution_count": 156,
   "id": "24e6152f-89f7-4384-81f8-5e962e5fee9c",
   "metadata": {},
   "outputs": [],
   "source": [
    "res2= res.merge(leverTime, on=['name'])\n"
   ]
  },
  {
   "cell_type": "code",
   "execution_count": 157,
   "id": "516371e9-b964-42c6-8e2a-76cd6b8eee8f",
   "metadata": {},
   "outputs": [
    {
     "data": {
      "text/plain": [
       "Index(['sessionName', 'name', 'valid', 'trialNo', 'startTime', 'endTime',\n",
       "       'startTimeWS', 'endTimeWS', 'duration', 'light', 'arenaRadiusCm',\n",
       "       'nLeverPresses', 'nJourneys', 'searchLength', 'searchDuration',\n",
       "       'searchMeanSpeed', 'searchMedianMVDeviationToTarget',\n",
       "       'searchLastTargetToAnimalAngle', 'medianMVDeviationRoomReference',\n",
       "       'headingError', 'startPositionHoming_x', 'startPositionHoming_y',\n",
       "       'homingAngleAtPeriphery', 'homingErrorAtPeriphery',\n",
       "       'homingErrorAtPeripheryLever', 'homingErrorAtPeripheryLeverAbsolute',\n",
       "       'leverX', 'leverY', 'subject', 'date'],\n",
       "      dtype='object')"
      ]
     },
     "execution_count": 157,
     "metadata": {},
     "output_type": "execute_result"
    }
   ],
   "source": [
    "res.keys()"
   ]
  },
  {
   "cell_type": "code",
   "execution_count": 158,
   "id": "94ea22f1-3475-48a6-a16b-2ee9ad05a0aa",
   "metadata": {},
   "outputs": [
    {
     "data": {
      "text/plain": [
       "Index(['sessionName', 'name', 'valid', 'trialNo', 'startTime', 'endTime',\n",
       "       'startTimeWS', 'endTimeWS', 'duration', 'light', 'arenaRadiusCm',\n",
       "       'nLeverPresses', 'nJourneys', 'searchLength', 'searchDuration',\n",
       "       'searchMeanSpeed', 'searchMedianMVDeviationToTarget',\n",
       "       'searchLastTargetToAnimalAngle', 'medianMVDeviationRoomReference',\n",
       "       'headingError', 'startPositionHoming_x', 'startPositionHoming_y',\n",
       "       'homingAngleAtPeriphery', 'homingErrorAtPeriphery',\n",
       "       'homingErrorAtPeripheryLever', 'homingErrorAtPeripheryLeverAbsolute',\n",
       "       'leverX', 'leverY', 'subject', 'date', 'levertimeRos', 'levertimeRes'],\n",
       "      dtype='object')"
      ]
     },
     "execution_count": 158,
     "metadata": {},
     "output_type": "execute_result"
    }
   ],
   "source": [
    "res2.keys()"
   ]
  },
  {
   "cell_type": "markdown",
   "id": "9dc9d338-3836-4725-8af4-7d3d6334188a",
   "metadata": {},
   "source": [
    "## Add the leverpress res and ros time to the df we have "
   ]
  },
  {
   "cell_type": "code",
   "execution_count": 160,
   "id": "07c6a2ee-6c64-4c19-b29f-1714d7faf755",
   "metadata": {},
   "outputs": [],
   "source": [
    "fn ='behavior_180_v2.csv'\n",
    "res2.to_csv(fn, index=False)"
   ]
  },
  {
   "cell_type": "code",
   "execution_count": null,
   "id": "ba8078ee-d2f5-4000-a0bd-7dc2f9de823f",
   "metadata": {},
   "outputs": [],
   "source": []
  }
 ],
 "metadata": {
  "kernelspec": {
   "display_name": "DEEPLABCUT",
   "language": "python",
   "name": "deeplabcut"
  },
  "language_info": {
   "codemirror_mode": {
    "name": "ipython",
    "version": 3
   },
   "file_extension": ".py",
   "mimetype": "text/x-python",
   "name": "python",
   "nbconvert_exporter": "python",
   "pygments_lexer": "ipython3",
   "version": "3.8.13"
  },
  "widgets": {
   "application/vnd.jupyter.widget-state+json": {
    "state": {},
    "version_major": 2,
    "version_minor": 0
   }
  }
 },
 "nbformat": 4,
 "nbformat_minor": 5
}
